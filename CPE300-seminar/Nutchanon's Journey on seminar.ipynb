{
 "cells": [
  {
   "cell_type": "markdown",
   "metadata": {},
   "source": [
    "# Nutchanon's Journey on seminar"
   ]
  },
  {
   "cell_type": "markdown",
   "metadata": {},
   "source": [
    "> My time spent ratio - Finance 10% Chatbot 10% Deep Learning 80%"
   ]
  },
  {
   "cell_type": "markdown",
   "metadata": {},
   "source": [
    "For those who don't know, Seminar course is what junior KMUTT computer engineer need to take. This course aims to provide preparation to the 4th year senior project, the ultimate project to graduate this faculty. The tradition of the course is that juniors find their own partner professor who will guide/help on this course.\n",
    "\n",
    "My journery to these three topics was something special. I dreamt, googled and decised whether those topics are really ready for production or not.  I have big interest in those, but I need to go with one topic I thought most suitable for me at that time. This is hard moment for me. My conclusion is that; **Finance**, particularly trading in equities, option and other securities can be done later in my freetime. **Chatbot**, particularly Thai language chatbot; this one is not really in my attention anymore because Thai NLP is so WEAK. The comunity don't even share their source code. So, it would be amazingly waste of time to push this. **Deep learning**, I mysterously fell in love with this topic. Althrough, at first it appeared that this topic is too new, too reasearch and too theory. But, at the end I found a good learning resource. So, I can get back on the track of master it."
   ]
  },
  {
   "cell_type": "markdown",
   "metadata": {},
   "source": [
    "# Finance"
   ]
  },
  {
   "cell_type": "markdown",
   "metadata": {},
   "source": [
    "> I saw an unripe apple. I better let it hang on the tree a bit long.\n",
    "\n",
    "I googled/talked around this topic for a month. Finance, specifically trading is not a small topic. On one hand, it may seem pretty easy to go into, to get started. But actually they are not open as you might think. One case is that, if you want a raw data to run some ML on. Obtaining that data is truly a sweat and tears job. Waiting in the bush is my decision."
   ]
  },
  {
   "cell_type": "markdown",
   "metadata": {},
   "source": [
    "## inspiration"
   ]
  },
  {
   "cell_type": "markdown",
   "metadata": {},
   "source": [
    "Aj. Marong is the first teacher I talked to about the seminar subject. The first thing that strike, ignite my idea about this was [Numerai news](https://www.technologyreview.com/s/603120/new-hedge-fund-relies-on-an-anonymous-army-of-coders-to-turn-a-profit/).\n",
    "\n",
    "![Hedge Fund founder](https://d267cvn3rvuq91.cloudfront.net/i/images/richardcraib.jpg?sw=373&cx=246&cy=18&cw=595&ch=744)\n",
    "He is Richard Craib, San Francisco.\n",
    "\n",
    "I thought we can do a lot on finance using ML. Thailand is not so advanced in robo-trading. These were my hypothesis. \n",
    "\n",
    "Then, I did some research on some topics of finance. In order to construct an imaginative robo-assist trading. \n",
    "\n",
    "In my imagination; normally I know which stock I want to buy/sell, but I don't know the timing. So, I want to create a robot that given it a period of time. and my target stock. I am able to collect it at a price lower than the avg buy."
   ]
  },
  {
   "cell_type": "markdown",
   "metadata": {},
   "source": [
    "![](images/Finance robo model.png)"
   ]
  },
  {
   "cell_type": "markdown",
   "metadata": {},
   "source": [
    "## Execute buy/sell order using API"
   ]
  },
  {
   "cell_type": "markdown",
   "metadata": {},
   "source": [
    "There are 2 ways of making this possible.\n",
    "1. Obtain official API which mean I need to co-operate with a securities crop. \n",
    "2. Reverse engineer the API and kept it secret(illegal)\n",
    "3. Browser Automation\n",
    "\n",
    "I have talk to a senior. He said that the SET market API could be fairly easily reversed engineer due to its not-encryption. He had done this before. He also mention about illegal of using it.\n",
    "\n",
    "My conclusion was that if I cannot spread my success. why I would like to do this at the first place. So, I hold this ideal until I got an opputunity later."
   ]
  },
  {
   "cell_type": "markdown",
   "metadata": {},
   "source": [
    "## Trading Strategy "
   ]
  },
  {
   "cell_type": "markdown",
   "metadata": {},
   "source": [
    "*Camarilla pivot point* is a type of follow trade strategy. It basically mark where you should consider long or short asset. If the price line pass a pivot. observe it direction for a moment then trade. For example, if the price line heading down then you make a short decision.\n"
   ]
  },
  {
   "cell_type": "markdown",
   "metadata": {},
   "source": [
    "![](images/Day_Trader_Pivots_body_Picture_3.png)"
   ]
  },
  {
   "cell_type": "markdown",
   "metadata": {},
   "source": [
    "## resources"
   ]
  },
  {
   "cell_type": "markdown",
   "metadata": {},
   "source": [
    "Public Person on facebook\n",
    "* Chaipat Nengcomma\n",
    "\n",
    "He also have youtube channel teach me about many concepts. He is also very experience person with broad knowledge of trading securities including global securities. One of his follower collect all his historical post on facebook over 1 year. Here [it is](https://docs.google.com/document/d/1nGvkGJQb_-ILo98DphWituD1dLVRhJNoXpBaXrXUL6w/edit?usp=sharing)."
   ]
  },
  {
   "cell_type": "markdown",
   "metadata": {},
   "source": [
    "# Chatbot"
   ]
  },
  {
   "cell_type": "markdown",
   "metadata": {},
   "source": [
    "When the day of select an advisor comes, I had a few topic left in my mind. In last semester, I develope a chatbot, the working one as a lifetime project. I love that chatbot, and would like to see if I can even develop it more fruitful. These are the characteristic of my bot.\n",
    "1. NunnallyDes, its name.\n",
    "2. Notifing users if new episode of his favorite anime/manga come out, its duty\n",
    "3. Had been Operating for 2 months on Heroku.\n",
    "4. Responsing in Thai language.\n",
    "5. Working on facebook messenger platform\n"
   ]
  },
  {
   "cell_type": "code",
   "execution_count": 1,
   "metadata": {
    "ExecuteTime": {
     "end_time": "2017-05-19T15:26:47.834950Z",
     "start_time": "2017-05-19T15:26:47.502247Z"
    }
   },
   "outputs": [
    {
     "data": {
      "image/jpeg": "[encoded data removed]",
      "text/html": [
       "\n",
       "        <iframe\n",
       "            width=\"853.3333333333334\"\n",
       "            height=\"480.0\"\n",
       "            src=\"https://www.youtube.com/embed/7kHINUn2SkM\"\n",
       "            frameborder=\"0\"\n",
       "            allowfullscreen\n",
       "        ></iframe>\n",
       "        "
      ],
      "text/plain": [
       "<IPython.lib.display.YouTubeVideo at 0x109b2f5f8>"
      ]
     },
     "execution_count": 1,
     "metadata": {},
     "output_type": "execute_result"
    }
   ],
   "source": [
    "from IPython.display import YouTubeVideo\n",
    "YouTubeVideo(\"7kHINUn2SkM\",width=1280/1.5, height=720/1.5)"
   ]
  },
  {
   "cell_type": "markdown",
   "metadata": {},
   "source": [
    "After a period of develope, I knew how lacking of NLP Thai library it was. I did think that if I sacrifice some of my time on Thai NLP maybe I could improve this situation. Then Aj. Santitum anounce his 4 seminar topics. Three of them are\n",
    "\n",
    "1. NLP\n",
    "2. Chatbot\n",
    "3. Data Science\n",
    "\n",
    "Most of his topic interest are same to mine. So, I picked him as my advisor.\n",
    "Chatbot while I study the componnent to enrich my Nunnally, I found NLP Thai languange was awful. They wrote in languange(2nd gen) like C, C++ and they not open the source to public. In final, I discarded to continue chatbot."
   ]
  },
  {
   "cell_type": "markdown",
   "metadata": {
    "ExecuteTime": {
     "end_time": "2017-04-24T06:45:11.592840Z",
     "start_time": "2017-04-24T06:45:11.581808Z"
    }
   },
   "source": [
    "# Deep Learning"
   ]
  },
  {
   "cell_type": "markdown",
   "metadata": {},
   "source": [
    "If you want to *CODE - ENGINEER* the deep learning, I have a great resource to follow. I did a survey on deep learning resources and tutorials. and I found the best suited teacher for me to really engineer the deep learning. "
   ]
  },
  {
   "cell_type": "markdown",
   "metadata": {},
   "source": [
    "His name is [Jeremy Howard](https://en.wikipedia.org/wiki/Jeremy_Howard_%28entrepreneur%29). \n"
   ]
  },
  {
   "cell_type": "markdown",
   "metadata": {},
   "source": [
    "![](images/4707d8e88ba824e4a9ad05ee2446d93576117d21_2880x1620.jpg)"
   ]
  },
  {
   "cell_type": "markdown",
   "metadata": {},
   "source": [
    "His MOOC is [here](http://course.fast.ai/), fast.ai."
   ]
  },
  {
   "cell_type": "markdown",
   "metadata": {},
   "source": [
    "tl;dr\n",
    "The first time I heard the word deep learning, I conceptualized it as something superior a neural network with some uniform hidden layers which I have learnt from data mining course and many other machine learning techniques. This bias drove me toward DNN. \n",
    "\n",
    "My goal is enabling me to build any models. I had gone through many scatch-surface tutorials, some mathematics behind and news about novel acheivements. \n",
    "* scatch-surface tutorials\n",
    "    * regression\n",
    "    * MNIST\n",
    "    * classification\n",
    "    * hyperparameter\n",
    "    * convolution\n",
    "    * loss function\n",
    "* mathematics\n",
    "    * matrix\n",
    "    * calculus\n",
    "    * probability\n",
    "    * optimization\n",
    "* novel acheivements\n",
    "    * alphago\n",
    "    * dqn\n",
    "    * poker\n",
    "    * watson\n",
    "\n",
    "Ultimately, I could not link them up. I found the void in my mind because after few months I cannot express, understand and apply what I learnt to even basic problem. No tutorial taught how to transform data before use, how to use watch the network condition(loss,acc on each epoch). I gave up on this topic.\n",
    "\n",
    "Then, I found fast.ai. Everyrhing changed. I fell even more passionate in the deep learning. Jeremy Howard is the best teacher. He presents the state-of-art method with the reason/idea/research. He did give me an intunitive for all aspects that made neural network amazing.\n",
    "1. optimization\n",
    "    * adam\n",
    "    * SGD\n",
    "    * addgrad\n",
    "    * rmsprop\n",
    "2. activation - there is a paper that test all non-linear activation functions and found them are work equally well but the time taken is diiferent\n",
    "3. how to motitor the loss-accuracy over epoch\n",
    "5. why BatchNormLayer\n",
    "4. ....\n",
    "\n",
    "I have learnt a lot and still need to learn more. "
   ]
  },
  {
   "cell_type": "markdown",
   "metadata": {},
   "source": [
    "## Spark on tensorflow"
   ]
  },
  {
   "cell_type": "markdown",
   "metadata": {},
   "source": [
    "On seminar, I change my topic from chatbot to yahoo/sparkOnTensorflow.\n",
    "I have a bad experience on doing the Spark and tensorflow together. Installation and working on them was a painful moment I dont want to experience anymore. "
   ]
  },
  {
   "cell_type": "markdown",
   "metadata": {},
   "source": [
    "[Pipeline.io](http://pipeline.io/) is the final answer not only to spark on tensorflow, but also scalabale things and other services in big data backbone.\n",
    "> Pipeline.io = python + jupyter + docker with gpu + tensorflow"
   ]
  },
  {
   "cell_type": "markdown",
   "metadata": {},
   "source": [
    "![](images/architecture-overview-645x473.png)"
   ]
  },
  {
   "cell_type": "markdown",
   "metadata": {},
   "source": [
    "This works out-of-box and really powerful."
   ]
  },
  {
   "cell_type": "markdown",
   "metadata": {},
   "source": [
    "## Are you agree?\n",
    ">A Mathematician’s Lament of a nightmare world where children are not allowed to listen to or play music until they have spent over a decade mastering music notation and theory, spending classes transposing sheet music into a different key. In art class, students study colors and applicators, but aren’t allowed to actually paint until college. Sound absurd? This is how math is taught–we require students to spend years doing rote memorization, and learning dry, disconnected “fundamentals” that we claim will pay off later, long after most of them quit the subject.\n",
    "\n",
    "Jeremy Howard shows me the way that this state-of-art topic could go with this idea."
   ]
  },
  {
   "cell_type": "markdown",
   "metadata": {},
   "source": [
    "## See the world widely: A Trip to neural network"
   ]
  },
  {
   "cell_type": "markdown",
   "metadata": {
    "ExecuteTime": {
     "end_time": "2017-05-06T13:41:41.074684Z",
     "start_time": "2017-05-06T13:41:41.002306Z"
    }
   },
   "source": [
    "Like a just-graduated guy travel all around the world before he starts his career. The neural network learner should go through all Here is the list of what really guide me.\n",
    "* http://neupy.com/docs/tutorials.html \n",
    "* http://neupy.com/2016/12/17/hyperparameter_optimization_for_neural_networks.html\n",
    "* http://neupy.com/2015/09/21/password_recovery.html\n",
    "\n",
    "walk thru all almost models availiable. "
   ]
  },
  {
   "cell_type": "markdown",
   "metadata": {},
   "source": [
    "I have some key points to suggest to observe when you read through the code. You might not understand now, but it will help you glue up the missing concept later.\n",
    "1. neural network layer struture\n",
    "    1. repeatly pattern - same set of layer over and over\n",
    "    2. input layer - embedding, matrix of image(channel, weight ,height)\n",
    "2. data in/out and how they prepare/transform data?\n",
    "3. main idea behind each type of network"
   ]
  },
  {
   "cell_type": "markdown",
   "metadata": {
    "ExecuteTime": {
     "end_time": "2017-05-06T13:46:15.987786Z",
     "start_time": "2017-05-06T13:46:15.921787Z"
    }
   },
   "source": [
    "* Convolutional Neural Networks\n",
    "* Reforcement Learning\n",
    "* Recurrent Neural Networks\n",
    "* Autoencoders\n",
    "* Boltzmann Machine\n",
    "* MLP Neural Networks(basic should see first)\n",
    "* Competitive Neural Networks\n",
    "* Neural Networks with Radial Basis Functions\n",
    "* Memory based Neural Networks"
   ]
  }
 ],
 "metadata": {
  "hide_input": false,
  "kernelspec": {
   "display_name": "Python 3",
   "language": "python",
   "name": "python3"
  },
  "language_info": {
   "codemirror_mode": {
    "name": "ipython",
    "version": 3
   },
   "file_extension": ".py",
   "mimetype": "text/x-python",
   "name": "python",
   "nbconvert_exporter": "python",
   "pygments_lexer": "ipython3",
   "version": "3.6.2"
  },
  "notify_time": "5",
  "toc": {
   "colors": {
    "hover_highlight": "#DAA520",
    "running_highlight": "#FF0000",
    "selected_highlight": "#FFD700"
   },
   "moveMenuLeft": true,
   "nav_menu": {
    "height": "156px",
    "width": "252px"
   },
   "navigate_menu": true,
   "number_sections": true,
   "sideBar": true,
   "threshold": 4,
   "toc_cell": false,
   "toc_section_display": "block",
   "toc_window_display": false,
   "widenNotebook": false
  },
  "varInspector": {
   "cols": {
    "lenName": 16,
    "lenType": 16,
    "lenVar": 40
   },
   "kernels_config": {
    "python": {
     "delete_cmd_postfix": "",
     "delete_cmd_prefix": "del ",
     "library": "var_list.py",
     "varRefreshCmd": "print(var_dic_list())"
    },
    "r": {
     "delete_cmd_postfix": ") ",
     "delete_cmd_prefix": "rm(",
     "library": "var_list.r",
     "varRefreshCmd": "cat(var_dic_list()) "
    }
   },
   "types_to_exclude": [
    "module",
    "function",
    "builtin_function_or_method",
    "instance",
    "_Feature"
   ],
   "window_display": false
  }
 },
 "nbformat": 4,
 "nbformat_minor": 2
}
