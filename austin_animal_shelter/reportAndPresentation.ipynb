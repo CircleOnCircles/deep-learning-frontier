{
 "cells": [
  {
   "cell_type": "code",
   "execution_count": 7,
   "metadata": {
    "ExecuteTime": {
     "end_time": "2017-05-01T18:10:38.782152Z",
     "start_time": "2017-05-01T18:10:38.776614Z"
    },
    "collapsed": true,
    "init_cell": true
   },
   "outputs": [],
   "source": [
    "import pandas as pd\n",
    "import numpy as np\n",
    "import os ,csv"
   ]
  },
  {
   "cell_type": "code",
   "execution_count": 8,
   "metadata": {
    "ExecuteTime": {
     "end_time": "2017-05-01T18:10:42.704489Z",
     "start_time": "2017-05-01T18:10:41.538570Z"
    },
    "init_cell": true
   },
   "outputs": [
    {
     "name": "stderr",
     "output_type": "stream",
     "text": [
      "/Users/heim/anaconda3/envs/35/lib/python3.5/site-packages/matplotlib/__init__.py:1401: UserWarning:  This call to matplotlib.use() has no effect\n",
      "because the backend has already been chosen;\n",
      "matplotlib.use() must be called *before* pylab, matplotlib.pyplot,\n",
      "or matplotlib.backends is imported for the first time.\n",
      "\n",
      "  warnings.warn(_use_error_msg)\n"
     ]
    }
   ],
   "source": [
    "import hypertools as ht\n",
    "from matplotlib.colors import Normalize\n",
    "import matplotlib as mpl\n",
    "import matplotlib.pyplot as plt\n",
    "from matplotlib import cm\n",
    "from tpot import TPOTClassifier\n",
    "from sklearn.model_selection import train_test_split, GridSearchCV\n",
    "from sklearn.preprocessing import LabelEncoder"
   ]
  },
  {
   "cell_type": "code",
   "execution_count": 9,
   "metadata": {
    "ExecuteTime": {
     "end_time": "2017-05-01T18:10:43.986641Z",
     "start_time": "2017-05-01T18:10:43.973184Z"
    },
    "collapsed": true,
    "init_cell": true
   },
   "outputs": [],
   "source": [
    "from IPython.display import SVG\n",
    "import keras\n",
    "from keras.models import Sequential, Model\n",
    "from keras.layers import Dense, Activation, BatchNormalization, Dropout, Input, Embedding, Flatten,merge\n",
    "from keras.optimizers import RMSprop, Adam, Adagrad\n",
    "\n",
    "from keras.wrappers.scikit_learn import KerasClassifier\n",
    "from keras.utils.vis_utils import model_to_dot\n",
    "from keras.callbacks import TensorBoard, CSVLogger"
   ]
  },
  {
   "cell_type": "code",
   "execution_count": 10,
   "metadata": {
    "ExecuteTime": {
     "end_time": "2017-04-30T16:26:32.625977Z",
     "start_time": "2017-04-30T16:26:32.338345Z"
    },
    "collapsed": true,
    "init_cell": true
   },
   "outputs": [],
   "source": [
    "from hyperopt import Trials, STATUS_OK, tpe\n",
    "from hyperas import optim\n",
    "from hyperas.distributions import choice, uniform, conditional\n",
    "from sklearn.ensemble import RandomForestClassifier\n",
    "import xgboost as xgb"
   ]
  },
  {
   "cell_type": "code",
   "execution_count": 11,
   "metadata": {
    "ExecuteTime": {
     "end_time": "2017-04-30T16:26:32.628789Z",
     "start_time": "2017-04-30T16:26:32.626974Z"
    },
    "collapsed": true,
    "init_cell": true
   },
   "outputs": [],
   "source": [
    "import pydot\n",
    "pydot.find_graphviz = lambda: True"
   ]
  },
  {
   "cell_type": "code",
   "execution_count": 12,
   "metadata": {
    "ExecuteTime": {
     "end_time": "2017-04-30T16:26:32.643781Z",
     "start_time": "2017-04-30T16:26:32.629685Z"
    },
    "collapsed": true,
    "init_cell": true
   },
   "outputs": [],
   "source": [
    "%matplotlib inline"
   ]
  },
  {
   "cell_type": "markdown",
   "metadata": {},
   "source": [
    "# Animal Shelter Outcomes\n",
    "![](Image/title.png)"
   ]
  },
  {
   "cell_type": "markdown",
   "metadata": {
    "heading_collapsed": true
   },
   "source": [
    "# INTRODUCTION"
   ]
  },
  {
   "cell_type": "markdown",
   "metadata": {
    "ExecuteTime": {
     "end_time": "2017-04-30T16:20:58.800080Z",
     "start_time": "2017-04-30T16:20:58.794001Z"
    },
    "hidden": true
   },
   "source": [
    "## DESCRIPTION AND SCOPE\n",
    "The details of this project come from a Kaggle practice named **SHELTER ANIMAL OUTCOMES**. The dataset contains the details about each individual animal in shelter. The main aim is to predict the outcome of animal which has 5 possible values; adopted, died, euthanasia, returned to owner or transferred to other shelter. Basically, it is a multiple class classification problem. The challenge of this problem is that we need a heavy feature engineering to deal with a bleed attribute which is a categorical feature of OVER 1000 unique values. Also, color attribute is a mix of color and fur pattern which may require some research on this particular subject in order to make a proper data transformation. We plan to use neutral network for this classification. Along with stimulation, we believe that we can create more informative attributes.\n"
   ]
  },
  {
   "cell_type": "markdown",
   "metadata": {
    "hidden": true
   },
   "source": [
    "## WHERE THE DATASETS COME FROM?\n",
    "The datasets come from **AUSTIN ANIMAL CENTER** from October 1st, 2013 to March, 2016. Outcomes represent the status of animals as they leave the Animal Center. All animals receive a unique Animal ID during intake."
   ]
  },
  {
   "cell_type": "markdown",
   "metadata": {
    "hidden": true
   },
   "source": [
    "## HOW LARGE THE DATASETS ARE?\n",
    "In the test dataset, there are 11456 rows of data meanwhile in train dataset it has 26729 rows."
   ]
  },
  {
   "cell_type": "markdown",
   "metadata": {
    "heading_collapsed": true
   },
   "source": [
    "# ATTRIBUTES EXPLANATION AND DATA PREPROCESSING"
   ]
  },
  {
   "cell_type": "markdown",
   "metadata": {
    "heading_collapsed": true,
    "hidden": true
   },
   "source": [
    "## SexUponOutcomes\n",
    "![](Image/SexUponOutcomes.png)\n",
    "Let's look at the **SexUponOutcomes** attribute first. There are five types of values which we can reduce it. So the first thing we need to do is to break the column into two by using **whitespace( )** to get a new column with the values only **_male/female_**\n",
    "![](Image/Sex.png) \n",
    "\n",
    "Another splitted column contains **Neutered/Spayed/Intact** values. We notice that **Neutered** and **Spayed** are synonymns to indicate that a pet is not intact. We decide to change them into **Intactness** column which contains only **True/False**\n",
    "![](Image/Intactness.png)"
   ]
  },
  {
   "cell_type": "markdown",
   "metadata": {
    "hidden": true
   },
   "source": [
    "## Breed\n",
    "![](Image/Breed.png)\n",
    "Let's look at the sample value of the breed. There is a slash!! It might be great to separate it out. So we split it into **\"Breed1\"** and **\"Breed2\"**. After that we derive a new column **BreedMix** to indicate if it is a mix or not by detecting the word **\"Mix\"** or detecting if there are values in both **Breed1** and **Breed2** column. The values of **BreedMix** are **1/0**. We also fill the missing values in both **Breed1** and **Breed2** to **\"None\"**.\n",
    "![](Image/BreedMix.png)\n",
    "\n",
    "We also detect hair in both **Breed1** and **Breed2**. If we find there are two types of hair in one pet, we only keep the longer type of hair and extract into a new column called **Hair**\n",
    "![](Image/Hair2.png)"
   ]
  },
  {
   "cell_type": "markdown",
   "metadata": {
    "hidden": true
   },
   "source": [
    "## Color\n",
    "![](Image/Color.png)\n",
    "The picture above is an example values from **Color** attribute. Separate by using **slash(/)** into **PrimaryColor** and **SecondaryColor**. Detect patterns keyword such as Tabby, point, Merle, then derive found patterns into a new column **Patterns**. If two patterns are detected, we concatenated together separeated by **whitespace()** as shown below.\n",
    "![](Image/colorDone.png)"
   ]
  },
  {
   "cell_type": "markdown",
   "metadata": {
    "hidden": true
   },
   "source": [
    "## Name\n",
    "![](Image/Name.png)\n",
    "There are more than thousand distict names. First, we fill all missing names with **\"Unknown\"**. Then we derive a new column called **NameRank** to rank the first 20 popular name by assigning values from 1-20. The other names that are not in top 20 and unknown names are assigned with value of 500."
   ]
  },
  {
   "cell_type": "markdown",
   "metadata": {
    "hidden": true
   },
   "source": [
    "## OutcomeType and OutcomeSubtype\n",
    "![](Image/OutcomeTypeSubType.png)\n",
    "These two attributes are what we want to predict. There are five possible classes for **OutcomeType** and sixteen possible class for OutcomeSubtype."
   ]
  },
  {
   "cell_type": "markdown",
   "metadata": {},
   "source": [
    "# DATA VIRTUALIZATION"
   ]
  },
  {
   "cell_type": "markdown",
   "metadata": {},
   "source": [
    "## Shall we do simulation on this dataset?\n",
    "We have explored and try to find out if there are any cycles in the dataset so we could benefit from creating discrete-event simulation using simpy"
   ]
  },
  {
   "cell_type": "markdown",
   "metadata": {},
   "source": [
    "## Hypothesis\n",
    "> There is a clear pattern on how the total number of OutcomeType changes over a period of time.\n",
    "\n",
    "In simpler term, over a course of week or month, we can see some repeat behavior."
   ]
  },
  {
   "cell_type": "markdown",
   "metadata": {},
   "source": [
    "![](images/M4LNIN3XR360J7WFWXSFJSVHTYL607FW.png)"
   ]
  },
  {
   "cell_type": "markdown",
   "metadata": {},
   "source": [
    "SimPy is a process-based discrete-event simulation framework based on standard Python. Processes in SimPy are defined by Python generator functions and can, for example, be used to model active components like customers, vehicles or agents. SimPy also provides various types of shared resources to model limited capacity congestion points (like servers, checkout counters and tunnels)."
   ]
  },
  {
   "cell_type": "markdown",
   "metadata": {},
   "source": [
    "![](images/temps.gif)"
   ]
  },
  {
   "cell_type": "markdown",
   "metadata": {},
   "source": [
    "\n",
    "Here is the cycle of weather parameter over the course of years.\n",
    "> That pleasant feeling you get from looking at the animation is called “global warming.”\n",
    "\n",
    "Credit: [Kaggle: Exploring the Structure of High-Dimensional Data with HyperTools in Kaggle Kernels](http://blog.kaggle.com/2017/04/10/exploring-the-structure-of-high-dimensional-data-with-hypertools-in-kaggle-kernels/)"
   ]
  },
  {
   "cell_type": "markdown",
   "metadata": {},
   "source": [
    "Because of our hypothesis stated above, so we try do plot"
   ]
  },
  {
   "cell_type": "markdown",
   "metadata": {},
   "source": [
    "## Experiment"
   ]
  },
  {
   "cell_type": "markdown",
   "metadata": {
    "heading_collapsed": true
   },
   "source": [
    "### import data and prep"
   ]
  },
  {
   "cell_type": "code",
   "execution_count": 3,
   "metadata": {
    "ExecuteTime": {
     "end_time": "2017-04-30T14:11:55.347359Z",
     "start_time": "2017-04-30T14:11:55.337094Z"
    },
    "collapsed": true,
    "hidden": true
   },
   "outputs": [],
   "source": [
    "class MplColorHelper:\n",
    "    def __init__(self, cmap_name, start_val, stop_val):\n",
    "        self.cmap_name = cmap_name\n",
    "        self.cmap = plt.get_cmap(cmap_name)\n",
    "        self.norm = mpl.colors.Normalize(vmin=start_val, vmax=stop_val)\n",
    "        self.scalarMap = cm.ScalarMappable(norm=self.norm, cmap=self.cmap)\n",
    "\n",
    "    def get_rgb(self, val):\n",
    "        return self.scalarMap.to_rgba(val)\n",
    "\n",
    "    def get_rgb(self, val):\n",
    "        return self.scalarMap.to_rgba(val)"
   ]
  },
  {
   "cell_type": "code",
   "execution_count": 5,
   "metadata": {
    "ExecuteTime": {
     "end_time": "2017-04-30T14:14:30.830901Z",
     "start_time": "2017-04-30T14:14:30.803826Z"
    },
    "collapsed": true,
    "hidden": true
   },
   "outputs": [],
   "source": [
    "ymd_cycle = pd.read_csv('datasets/year-month-cycle.csv')\n",
    "#########\n",
    "ym_cycle = ymd_cycle.groupby(['year_DateTime1','month_DateTime1']).agg(sum)\n",
    "\n",
    "ym_cycle = ym_cycle.sort_index(ascending=[True,False])\n",
    "\n",
    "ym_cycle = ym_cycle.drop('day_DateTime1',axis=1)\n",
    "ym_cycle = ym_cycle.sort_index()\n",
    "############\n",
    "ymd_cycle = (ymd_cycle.set_index(['year_DateTime1','month_DateTime1','day_DateTime1'])\n",
    "             .sort_index())\n",
    "ymd_cycle;"
   ]
  },
  {
   "cell_type": "code",
   "execution_count": 6,
   "metadata": {
    "ExecuteTime": {
     "end_time": "2017-04-30T14:14:41.045274Z",
     "start_time": "2017-04-30T14:14:41.026579Z"
    },
    "collapsed": true,
    "hidden": true
   },
   "outputs": [],
   "source": [
    "nrow = ymd_cycle.reset_index().shape[0]\n",
    "def getReadableDate(index): return str(list(ymd_cycle.reset_index().ix[index]))\n",
    "labels = [getReadableDate(x) if x % 200 == 0 else None for x in range(nrow) ]"
   ]
  },
  {
   "cell_type": "code",
   "execution_count": 7,
   "metadata": {
    "ExecuteTime": {
     "end_time": "2017-04-30T14:14:41.764078Z",
     "start_time": "2017-04-30T14:14:41.760169Z"
    },
    "collapsed": true,
    "hidden": true
   },
   "outputs": [],
   "source": [
    "group = list((ymd_cycle.reset_index())['month_DateTime1'])"
   ]
  },
  {
   "cell_type": "code",
   "execution_count": 8,
   "metadata": {
    "ExecuteTime": {
     "end_time": "2017-04-30T14:14:42.183221Z",
     "start_time": "2017-04-30T14:14:42.175791Z"
    },
    "hidden": true
   },
   "outputs": [
    {
     "data": {
      "text/plain": [
       "(1.0, 0.0, 0.16)"
      ]
     },
     "execution_count": 8,
     "metadata": {},
     "output_type": "execute_result"
    }
   ],
   "source": [
    "conv_color = MplColorHelper('gist_rainbow',1,12)\n",
    "conv_color.get_rgb(1)[:-1]"
   ]
  },
  {
   "cell_type": "code",
   "execution_count": 9,
   "metadata": {
    "ExecuteTime": {
     "end_time": "2017-04-30T14:14:43.016305Z",
     "start_time": "2017-04-30T14:14:42.767848Z"
    },
    "collapsed": true,
    "hidden": true
   },
   "outputs": [],
   "source": [
    "color = [(conv_color.get_rgb(x)[:-1]) for x in group]"
   ]
  },
  {
   "cell_type": "markdown",
   "metadata": {},
   "source": [
    "### Visualize"
   ]
  },
  {
   "cell_type": "code",
   "execution_count": 10,
   "metadata": {
    "ExecuteTime": {
     "end_time": "2017-04-30T14:14:49.076603Z",
     "start_time": "2017-04-30T14:14:49.069338Z"
    },
    "collapsed": true
   },
   "outputs": [],
   "source": [
    "BASEPATH_SAVE_PLOTS = r'hyperplots/'"
   ]
  },
  {
   "cell_type": "markdown",
   "metadata": {},
   "source": [
    "#### year-month plot"
   ]
  },
  {
   "cell_type": "code",
   "execution_count": null,
   "metadata": {
    "collapsed": true
   },
   "outputs": [],
   "source": [
    "ht.plot(ym_cycle,'-',normalize='across',animate=True,chemtrails=True,duration=15,tail_duration=3, save_path=BASEPATH_SAVE_PLOTS + 'year_month_cycle.mp4')\n",
    "# ,tail_duration=0.3,legend=labels,zoom=2')"
   ]
  },
  {
   "cell_type": "code",
   "execution_count": 2,
   "metadata": {
    "ExecuteTime": {
     "end_time": "2017-05-02T07:11:27.749398Z",
     "start_time": "2017-05-02T07:11:27.700288Z"
    },
    "init_cell": true
   },
   "outputs": [
    {
     "data": {
      "text/html": [
       "<video width=\"480\" height=\"320\" controls>\n",
       "  <source src=\"hyperplots/year_month_cycle.mp4\" type=\"video/mp4\">\n",
       "</video>"
      ],
      "text/plain": [
       "<IPython.core.display.HTML object>"
      ]
     },
     "metadata": {},
     "output_type": "display_data"
    }
   ],
   "source": [
    "%%HTML\n",
    "<video width=\"480\" height=\"320\" controls>\n",
    "  <source src=\"hyperplots/year_month_cycle.mp4\" type=\"video/mp4\">\n",
    "</video>"
   ]
  },
  {
   "cell_type": "markdown",
   "metadata": {},
   "source": [
    "Here is the result of **year-month plot**. As you can see, the graph shows no pattern while moving through every month in a year. This means that the frequency of each **OutcomeType** has little or nothing to do with any specific month."
   ]
  },
  {
   "cell_type": "code",
   "execution_count": null,
   "metadata": {
    "collapsed": true
   },
   "outputs": [],
   "source": [
    "ht.plot(ym_cycle,'o')"
   ]
  },
  {
   "cell_type": "markdown",
   "metadata": {},
   "source": [
    "So we want to try to virtualize it in daily level to see if there is any pattern."
   ]
  },
  {
   "cell_type": "markdown",
   "metadata": {},
   "source": [
    "#### year-month-day"
   ]
  },
  {
   "cell_type": "code",
   "execution_count": null,
   "metadata": {
    "collapsed": true
   },
   "outputs": [],
   "source": [
    "ht.plot(ymd_cycle,color=[conv_color.get_rgb(9)[:-1]],normalize='across',animate=True,chemtrails=True,duration=300,rotations=10,zoom=3, save_path=BASEPATH_SAVE_PLOTS + 'year_month_day_cycle.mp4')"
   ]
  },
  {
   "cell_type": "code",
   "execution_count": 1,
   "metadata": {
    "ExecuteTime": {
     "end_time": "2017-05-02T07:12:01.191455Z",
     "start_time": "2017-05-02T07:12:01.178905Z"
    },
    "init_cell": true
   },
   "outputs": [
    {
     "data": {
      "text/html": [
       "<video width=\"480\" height=\"320\" controls>\n",
       "  <source src=\"hyperplots/year_month_day_cycle.mp4\" type=\"video/mp4\">\n",
       "</video>"
      ],
      "text/plain": [
       "<IPython.core.display.HTML object>"
      ]
     },
     "metadata": {},
     "output_type": "display_data"
    }
   ],
   "source": [
    "%%HTML\n",
    "<video width=\"480\" height=\"320\" controls>\n",
    "  <source src=\"hyperplots/year_month_day_cycle.mp4\" type=\"video/mp4\">\n",
    "</video>"
   ]
  },
  {
   "cell_type": "markdown",
   "metadata": {},
   "source": [
    "On the same hand, the graph shows no pattern as it moves from Monday through Sunday. This means that the days in week cannot tell the the frequency of each **OutcomeType**."
   ]
  },
  {
   "cell_type": "code",
   "execution_count": 19,
   "metadata": {
    "ExecuteTime": {
     "end_time": "2017-04-26T22:24:07.105129Z",
     "start_time": "2017-04-26T22:24:07.090042Z"
    },
    "collapsed": true
   },
   "outputs": [],
   "source": [
    "ymd_cycle.to_csv('datasets/ymd_cycle.csv')"
   ]
  },
  {
   "cell_type": "markdown",
   "metadata": {},
   "source": [
    "can you see that? there is a dense cluster in the middle"
   ]
  },
  {
   "cell_type": "code",
   "execution_count": 13,
   "metadata": {
    "ExecuteTime": {
     "end_time": "2017-04-30T14:16:58.023736Z",
     "start_time": "2017-04-30T14:16:57.642776Z"
    }
   },
   "outputs": [
    {
     "data": {
      "image/png": "[encoded data removed]",
      "text/plain": [
       "<matplotlib.figure.Figure at 0x7f01abee8390>"
      ]
     },
     "metadata": {},
     "output_type": "display_data"
    }
   ],
   "source": [
    "ht.plot(ymd_cycle,'o',normalize='across',labels=labels)"
   ]
  },
  {
   "cell_type": "code",
   "execution_count": 14,
   "metadata": {
    "ExecuteTime": {
     "end_time": "2017-04-30T14:17:08.998631Z",
     "start_time": "2017-04-30T14:17:08.645391Z"
    }
   },
   "outputs": [
    {
     "data": {
      "image/png": "[encoded data removed]",
      "text/plain": [
       "<matplotlib.figure.Figure at 0x7f01245c1278>"
      ]
     },
     "metadata": {},
     "output_type": "display_data"
    }
   ],
   "source": [
    "ht.plot(ymd_cycle,'o',normalize='across',labels=labels,ndims=2)"
   ]
  },
  {
   "cell_type": "markdown",
   "metadata": {},
   "source": [
    "#### version split by month"
   ]
  },
  {
   "cell_type": "code",
   "execution_count": null,
   "metadata": {
    "ExecuteTime": {
     "end_time": "2017-04-26T21:15:27.392253Z",
     "start_time": "2017-04-26T14:15:27.136Z"
    },
    "collapsed": true
   },
   "outputs": [],
   "source": [
    "ht.plot(ymd_cycle,'o',group=list((ymd_cycle.reset_index())['month_DateTime1']),normalize='across',animate=Fa,chemtrails=True,duration=300,rotations=10,zoom=3)"
   ]
  },
  {
   "cell_type": "code",
   "execution_count": 15,
   "metadata": {
    "ExecuteTime": {
     "end_time": "2017-04-30T14:17:55.730004Z",
     "start_time": "2017-04-30T14:17:55.438385Z"
    }
   },
   "outputs": [
    {
     "data": {
      "image/png": "[encoded data removed]",
      "text/plain": [
       "<matplotlib.figure.Figure at 0x7f01245dfef0>"
      ]
     },
     "metadata": {},
     "output_type": "display_data"
    }
   ],
   "source": [
    "ht.plot(ymd_cycle,'o',group=list((ymd_cycle.reset_index())['month_DateTime1']),normalize='across')"
   ]
  },
  {
   "cell_type": "code",
   "execution_count": null,
   "metadata": {
    "ExecuteTime": {
     "end_time": "2017-04-26T21:15:27.392396Z",
     "start_time": "2017-04-26T14:15:27.139Z"
    },
    "collapsed": true
   },
   "outputs": [],
   "source": [
    "ht.plot(ymd_cycle,'-', palette='RdBu_r',normalize='across',animate=True,chemtrails=True,duration=300,rotations=10,zoom=3)"
   ]
  },
  {
   "cell_type": "code",
   "execution_count": null,
   "metadata": {
    "ExecuteTime": {
     "end_time": "2017-04-26T21:15:27.392541Z",
     "start_time": "2017-04-26T14:15:27.143Z"
    },
    "collapsed": true
   },
   "outputs": [],
   "source": [
    "ht.plot(ymd_cycle,'o',group=list((ymd_cycle.reset_index())['month_DateTime1']),normalize='across',animate=True,chemtrails=True,duration=300,rotations=10,zoom=3)\n",
    "# ,tail_duration=0.3,legend=labels,zoom=2')"
   ]
  },
  {
   "cell_type": "code",
   "execution_count": null,
   "metadata": {
    "ExecuteTime": {
     "end_time": "2017-04-26T21:15:27.392685Z",
     "start_time": "2017-04-26T14:15:27.146Z"
    },
    "collapsed": true
   },
   "outputs": [],
   "source": [
    "# ht.plot(train_X,'o',group=list(train_ori['OutcomeType']),normalize='across',\n",
    "#         chemtrails=True,animate=True,tail_duration=0.3,legend=labels,zoom=2)\n",
    "ht.plot(ymd_cycle,'-',normalize='across',\n",
    "        chemtrails=True,animate=True,tail_duration=0.3,legend=labels,zoom=2,save_path='austin2.mp4')"
   ]
  },
  {
   "cell_type": "code",
   "execution_count": 21,
   "metadata": {
    "ExecuteTime": {
     "end_time": "2017-05-02T08:14:13.425308Z",
     "start_time": "2017-05-02T08:14:13.397327Z"
    },
    "init_cell": true
   },
   "outputs": [
    {
     "data": {
      "text/html": [
       "<video width=\"480\" height=\"320\" controls>\n",
       "  <source src=\"hyperplots/austin2.mp4\" type=\"video/mp4\">\n",
       "</video>"
      ],
      "text/plain": [
       "<IPython.core.display.HTML object>"
      ]
     },
     "metadata": {},
     "output_type": "display_data"
    }
   ],
   "source": [
    "%%HTML\n",
    "<video width=\"480\" height=\"320\" controls>\n",
    "  <source src=\"hyperplots/austin2.mp4\" type=\"video/mp4\">\n",
    "</video>"
   ]
  },
  {
   "cell_type": "markdown",
   "metadata": {},
   "source": [
    "from sklearn.manifold import TSNE\n",
    "TSNE_model = TSNE(n_components=3)\n",
    "reduced_data_TSNE = TSNE_model.fit_transform(ht.tools.df2mat(train_X))\n",
    "ht.plot(reduced_data_TSNE,'o', group=list(train_ori['OutcomeType']), legend=labels)\n"
   ]
  },
  {
   "cell_type": "markdown",
   "metadata": {},
   "source": [
    "#### Covert Result to Gif"
   ]
  },
  {
   "cell_type": "markdown",
   "metadata": {
    "heading_collapsed": true
   },
   "source": [
    "##### 2 line\n",
    "Ref [create-animated-gif-from-mp4-video-via-command-line](https://askubuntu.com/questions/648603/create-animated-gif-from-mp4-video-via-command-line)"
   ]
  },
  {
   "cell_type": "markdown",
   "metadata": {
    "hidden": true
   },
   "source": [
    "```bash\n",
    "ffmpeg -i video.mp4  -r 5 'frames/frame-%03d.jpg'\n",
    "```\n",
    "\n",
    "-r 5 stands for FPS value\n",
    "    for better quality choose bigger number\n",
    "    adjust the value with the -delay in 2nd step\n",
    "    to keep the same animation speed\n",
    "\n",
    "%03d gives sequential filename number in decimal form\n",
    "\n",
    "```bash\n",
    "cd frames\n",
    "convert -delay 20 -loop 0 *.jpg myimage.gif\n",
    "```\n",
    "\n",
    "-delay 20 means the time between each frame is 0.2 seconds\n",
    "   which match 5 fps above.\n",
    "   When choosing this value\n",
    "       1 = 100 fps\n",
    "       2 = 50 fps\n",
    "       4 = 25 fps\n",
    "       5 = 20 fps\n",
    "       10 = 10 fps\n",
    "       20 = 5 fps\n",
    "       25 = 4 fps\n",
    "       50 = 2 fps\n",
    "       100 = 1 fps\n",
    "       in general 100/delay = fps\n",
    "\n",
    "-loop 0 means repeat forever"
   ]
  },
  {
   "cell_type": "markdown",
   "metadata": {},
   "source": [
    "##### 1 line"
   ]
  },
  {
   "cell_type": "markdown",
   "metadata": {},
   "source": [
    "```bash\n",
    "ffmpeg -i input.mp4 -vf scale=320:-1 -r 10 -f image2pipe -vcodec ppm - | \\\n",
    "  convert -delay 5 -loop 0 - output.gif\n",
    "# OR\n",
    "convert input.mp4 rpi2-bare-metal-blink.gif\n",
    "```\n"
   ]
  },
  {
   "cell_type": "code",
   "execution_count": 14,
   "metadata": {
    "ExecuteTime": {
     "end_time": "2017-04-26T22:22:43.649422Z",
     "start_time": "2017-04-26T22:10:49.566135Z"
    },
    "scrolled": true
   },
   "outputs": [
    {
     "name": "stdout",
     "output_type": "stream",
     "text": [
      "^C\r\n"
     ]
    }
   ],
   "source": [
    "#ffmpeg -i hyperplots/year_month_cycle.mp4  -r 5 'frames/frame-%03d.jpg'\n",
    "!convert hyperplots/year_month_day_cycle.mp4 year_month_day_cycle.gif"
   ]
  },
  {
   "cell_type": "markdown",
   "metadata": {},
   "source": [
    "### Conclusion"
   ]
  },
  {
   "cell_type": "markdown",
   "metadata": {},
   "source": [
    "There are 3 plots being shown above.\n",
    "\n",
    "1. cycle plot by year-month-day\n",
    "2. cycle plot by year-month\n",
    "3. row plot colored by the Label classes\n",
    "\n",
    "The 1 and 2 plotd sugested that there is no timeseries infomation we can get from. They are so ramdom.\n",
    "\n",
    "The 3 plot shown some zones, some teritories belong to each class, so we could just use tradition method might be enough.\n",
    "\n",
    "We are not going to do simulation on this datasets. To obtain additional model we will find another way around.\n",
    "\n"
   ]
  },
  {
   "cell_type": "markdown",
   "metadata": {},
   "source": [
    "# MODEL"
   ]
  },
  {
   "cell_type": "markdown",
   "metadata": {},
   "source": [
    "## Data preparation"
   ]
  },
  {
   "cell_type": "code",
   "execution_count": 10,
   "metadata": {
    "ExecuteTime": {
     "end_time": "2017-05-01T18:11:02.991601Z",
     "start_time": "2017-05-01T18:11:02.684041Z"
    },
    "init_cell": true
   },
   "outputs": [
    {
     "name": "stderr",
     "output_type": "stream",
     "text": [
      "/Users/heim/anaconda3/envs/35/lib/python3.5/site-packages/IPython/core/interactiveshell.py:2683: DtypeWarning: Columns (0,12,13) have mixed types. Specify dtype option on import or set low_memory=False.\n",
      "  interactivity=interactivity, compiler=compiler, result=result)\n"
     ]
    }
   ],
   "source": [
    "maindf = pd.read_csv('datasets/hand_clean.csv', encoding='latin-1')"
   ]
  },
  {
   "cell_type": "markdown",
   "metadata": {
    "ExecuteTime": {
     "end_time": "2017-04-27T12:58:50.887460Z",
     "start_time": "2017-04-27T12:58:50.885722Z"
    }
   },
   "source": [
    "### Create one more features"
   ]
  },
  {
   "cell_type": "code",
   "execution_count": 11,
   "metadata": {
    "ExecuteTime": {
     "end_time": "2017-05-01T18:11:08.349007Z",
     "start_time": "2017-05-01T18:11:05.037953Z"
    },
    "collapsed": true,
    "init_cell": true,
    "scrolled": true
   },
   "outputs": [],
   "source": [
    "maindf['HasName'] = maindf['Name'].apply(lambda x: True if x !='Unknown' else False)\n",
    "\n",
    "maindf['Name'] = maindf['Name'].apply(lambda x: x.lower())\n",
    "\n",
    "# maindf['Name'] = maindf['Name'].apply(lambda x: np.nan if x == 'unknown' else x)\n",
    "\n",
    "maindf['Color'] = maindf.apply(lambda row: \"{} {}\".format(row['PrimaryColor'] ,row['SecondaryColor']),axis=1)\n",
    "\n",
    "maindf.Color = maindf['Color'].apply(lambda x: x.lower())\n",
    "\n",
    "# maindf['Name'] = maindf['Name'].apply(lambda x: np.nan if x == 'unknown' else x)\n",
    "\n",
    "maindf['Color'] = maindf.apply(lambda row: \"{} {}\".format(row['PrimaryColor'] ,row['SecondaryColor']),axis=1)\n",
    "\n",
    "maindf.Color = maindf['Color'].apply(lambda x: x.lower())"
   ]
  },
  {
   "cell_type": "markdown",
   "metadata": {},
   "source": [
    "### The rest"
   ]
  },
  {
   "cell_type": "code",
   "execution_count": 12,
   "metadata": {
    "ExecuteTime": {
     "end_time": "2017-05-01T18:11:08.864015Z",
     "start_time": "2017-05-01T18:11:08.351673Z"
    },
    "collapsed": true,
    "init_cell": true
   },
   "outputs": [],
   "source": [
    "COLUMNS = ['AnimalID', 'AnimalType', 'Breed1', 'Hair', 'Breed2', 'BreedMix',\n",
    "       'PrimaryColor', 'SecondaryColor', 'Patterns', 'Intactness', 'Name',\n",
    "       'NameRank', 'OutcomeSubtype', 'OutcomeType', 'Sex', 'AgeuponOutcomeDay',\n",
    "       'AgeType', 'Month', 'DayInWeek', 'PartsOfDay', 'HasName']\n",
    "CATEGORICAL_COLUMNS = ['AnimalType','BreedMix','Breed1','Hair', 'PrimaryColor','Patterns', 'Intactness', 'HasName', \n",
    "                       'PartsOfDay', 'DayInWeek', 'Month','AgeType', 'Sex']\n",
    "CONTINUOUS_COLUMNS = ['AgeuponOutcomeDay']\n",
    "TEXTUAL_COLUMNS = ['Name','Breed1','Breed2','PrimaryColor','SecondaryColor', 'Patterns']\n",
    "\n",
    "TARGET_COLUMNS = [ 'OutcomeSubtype', 'OutcomeType']\n",
    "META_COLUMNS = ['AnimalID', 'NameRank','Breed2','SecondaryColor','Name']\n",
    "\n",
    "simple_X = maindf.drop(META_COLUMNS + TARGET_COLUMNS, axis=1)\n",
    "simple_X = pd.get_dummies(simple_X,columns=CATEGORICAL_COLUMNS)\n",
    "\n",
    "simple_Y = maindf[TARGET_COLUMNS]\n",
    "simple_Y = pd.get_dummies(simple_Y)\n",
    "\n",
    "simple_meta = maindf[META_COLUMNS]\n",
    "\n",
    "maindf.OutcomeType.unique()\n",
    "\n",
    "le = LabelEncoder()\n",
    "le.fit(maindf[maindf.OutcomeType.notnull()].OutcomeType)\n",
    "le.classes_\n",
    "\n",
    "fulltrain_X = simple_X[maindf.OutcomeType.notnull()]\n",
    "fulltrain_Y = simple_Y[maindf.OutcomeType.notnull()]\n",
    "fulltrain_Y_le = le.transform(maindf[maindf.OutcomeType.notnull()].OutcomeType)\n",
    "\n",
    "sample_X = fulltrain_X.sample(1000)\n",
    "sample_Y = fulltrain_Y.loc[sample_X.index,:]\n",
    "\n",
    "train_X,valid_X,train_Y,valid_Y, train_Y_le, valid_Y_le = train_test_split(fulltrain_X,fulltrain_Y,fulltrain_Y_le,test_size=0.1,random_state=32)\n",
    "\n",
    "test_X = simple_X[maindf.OutcomeType.isnull()]\n",
    "test_Y = simple_Y[maindf.OutcomeType.isnull()]\n",
    "\n",
    "\n",
    "test_meta = simple_meta[maindf.OutcomeType.isnull()]\n",
    "\n",
    "INPUT_DIM = 314"
   ]
  },
  {
   "cell_type": "markdown",
   "metadata": {
    "heading_collapsed": true
   },
   "source": [
    "## TEAPOT"
   ]
  },
  {
   "cell_type": "markdown",
   "metadata": {
    "hidden": true
   },
   "source": [
    "**TPOT** is a Python tool that automatically creates and optimizes machine learning pipelines using genetic programming.\n",
    "![](Image/tpot.png)"
   ]
  },
  {
   "cell_type": "markdown",
   "metadata": {
    "hidden": true
   },
   "source": [
    "Here is what **TPOT** does.. TPOT will automate the most tedious part of machine learning by intelligently exploring thousands of possible pipelines to find the best one for your data.\n",
    "![](Image/tpotdi.png)"
   ]
  },
  {
   "cell_type": "markdown",
   "metadata": {
    "hidden": true
   },
   "source": [
    "We want to try something new, we use TPOT for genetic algorithm."
   ]
  },
  {
   "cell_type": "code",
   "execution_count": 43,
   "metadata": {
    "ExecuteTime": {
     "end_time": "2017-04-30T05:47:58.962324Z",
     "start_time": "2017-04-30T05:47:58.947213Z"
    },
    "hidden": true
   },
   "outputs": [
    {
     "name": "stdout",
     "output_type": "stream",
     "text": [
      "Warning: xgboost.XGBClassifier is not available and will not be used by TPOT.\n"
     ]
    }
   ],
   "source": [
    "GA_model = TPOTClassifier(generations=5, population_size=20,mutation_rate=0.9, crossover_rate=0.1,verbosity=2)"
   ]
  },
  {
   "cell_type": "code",
   "execution_count": 44,
   "metadata": {
    "ExecuteTime": {
     "end_time": "2017-04-30T08:34:19.944891Z",
     "start_time": "2017-04-30T05:47:59.768579Z"
    },
    "hidden": true
   },
   "outputs": [
    {
     "name": "stderr",
     "output_type": "stream",
     "text": [
      "Optimization Progress:  33%|███▎      | 40/120 [2:07:24<2:38:10, 118.63s/pipeline]"
     ]
    },
    {
     "name": "stdout",
     "output_type": "stream",
     "text": [
      "Generation 1 - Current best internal CV score: 0.6748421604030671\n"
     ]
    },
    {
     "name": "stderr",
     "output_type": "stream",
     "text": [
      "Optimization Progress:  50%|█████     | 60/120 [2:15:07<42:52, 42.88s/pipeline]   "
     ]
    },
    {
     "name": "stdout",
     "output_type": "stream",
     "text": [
      "Generation 2 - Current best internal CV score: 0.6748421604030671\n"
     ]
    },
    {
     "name": "stderr",
     "output_type": "stream",
     "text": [
      "Optimization Progress:  67%|██████▋   | 80/120 [2:23:26<16:17, 24.43s/pipeline]"
     ]
    },
    {
     "name": "stdout",
     "output_type": "stream",
     "text": [
      "Generation 3 - Current best internal CV score: 0.6748421604030671\n"
     ]
    },
    {
     "name": "stderr",
     "output_type": "stream",
     "text": [
      "Optimization Progress:  83%|████████▎ | 100/120 [2:28:40<05:24, 16.22s/pipeline]"
     ]
    },
    {
     "name": "stdout",
     "output_type": "stream",
     "text": [
      "Generation 4 - Current best internal CV score: 0.6748421604030671\n"
     ]
    },
    {
     "name": "stderr",
     "output_type": "stream",
     "text": [
      "                                                                                \r"
     ]
    },
    {
     "name": "stdout",
     "output_type": "stream",
     "text": [
      "Generation 5 - Current best internal CV score: 0.6748421604030671\n",
      "\n",
      "Best pipeline: RandomForestClassifier(ZeroCount(input_matrix), RandomForestClassifier__bootstrap=True, RandomForestClassifier__criterion=DEFAULT, RandomForestClassifier__max_features=0.25, RandomForestClassifier__min_samples_leaf=9, RandomForestClassifier__min_samples_split=8, RandomForestClassifier__n_estimators=100)\n"
     ]
    }
   ],
   "source": [
    "GA_model.fit(train_X.values,train_Y_le) #train_Y_le is numpy array already"
   ]
  },
  {
   "cell_type": "code",
   "execution_count": 45,
   "metadata": {
    "ExecuteTime": {
     "end_time": "2017-04-30T08:34:38.699645Z",
     "start_time": "2017-04-30T08:34:38.626863Z"
    },
    "hidden": true
   },
   "outputs": [
    {
     "name": "stdout",
     "output_type": "stream",
     "text": [
      "0.674148896371\n"
     ]
    }
   ],
   "source": [
    "print(GA_model.score(valid_X.values, valid_Y_le))  #valid_Y_le is numpy array already\n",
    "GA_model.export('GA_best_model_pipeline.py')"
   ]
  },
  {
   "cell_type": "code",
   "execution_count": 46,
   "metadata": {
    "ExecuteTime": {
     "end_time": "2017-04-30T08:35:29.510288Z",
     "start_time": "2017-04-30T08:35:29.248510Z"
    },
    "hidden": true,
    "scrolled": true
   },
   "outputs": [
    {
     "data": {
      "text/plain": [
       "array([[  6.61515302e-02,   0.00000000e+00,   5.39485394e-02,\n",
       "          1.26512788e-01,   7.53387143e-01],\n",
       "       [  7.76031776e-01,   2.77777778e-04,   1.79222207e-03,\n",
       "          1.77393857e-01,   4.45043676e-02],\n",
       "       [  1.68179392e-01,   0.00000000e+00,   2.38313103e-03,\n",
       "          1.95734968e-01,   6.33702509e-01],\n",
       "       ..., \n",
       "       [  0.00000000e+00,   1.56918082e-03,   4.11006088e-02,\n",
       "          2.13203463e-03,   9.55198176e-01],\n",
       "       [  4.90117189e-01,   2.40740741e-03,   1.82234304e-02,\n",
       "          4.23708723e-01,   6.55432502e-02],\n",
       "       [  7.65233429e-02,   2.38095238e-04,   1.61148678e-01,\n",
       "          4.65761023e-01,   2.96328861e-01]])"
      ]
     },
     "execution_count": 46,
     "metadata": {},
     "output_type": "execute_result"
    }
   ],
   "source": [
    "GA_model.predict_proba(test_X.values)"
   ]
  },
  {
   "cell_type": "code",
   "execution_count": 47,
   "metadata": {
    "ExecuteTime": {
     "end_time": "2017-04-30T08:36:42.830928Z",
     "start_time": "2017-04-30T08:36:42.729839Z"
    },
    "collapsed": true,
    "hidden": true
   },
   "outputs": [],
   "source": [
    "df_submit = pd.DataFrame(_,columns=['Adoption', \"Died\", \"Euthanasia\", \"Return_to_owner\", 'Transfer'])\n",
    "a = pd.concat([test_meta['AnimalID'].reset_index(),df_submit.reset_index()],axis=1)\n",
    "a.drop(['index'],axis=1,inplace=True)\n",
    "a.rename(columns={'AnimalID':'ID'},inplace=True)\n",
    "a.to_csv('submits/tpot 5 20.csv', index=False)"
   ]
  },
  {
   "cell_type": "markdown",
   "metadata": {
    "heading_collapsed": true
   },
   "source": [
    "## RandomForest"
   ]
  },
  {
   "cell_type": "code",
   "execution_count": null,
   "metadata": {
    "collapsed": true,
    "hidden": true
   },
   "outputs": [],
   "source": [
    "model_rf = RandomForestClassifier()\n",
    "model_rf.fit(train_X,train_Y.iloc[:,-5:])\n",
    "model_rf.predict_proba(test_X.iloc[0:1,:])\n",
    "df_submit = pd.DataFrame(_,columns=['Adoption', \"Died\", \"Euthanasia\", \"Return_to_owner\", 'Transfer'])\n",
    "a = pd.concat([test_meta['AnimalID'].reset_index(),df_submit.reset_index()],axis=1)\n",
    "a.drop(['index'],axis=1,inplace=True)\n",
    "a.rename(columns={'AnimalID':'ID'},inplace=True)\n",
    "a.to_csv('submits/tpot 5 20.csv', index=False)"
   ]
  },
  {
   "cell_type": "markdown",
   "metadata": {},
   "source": [
    "## XGBoost"
   ]
  },
  {
   "cell_type": "markdown",
   "metadata": {},
   "source": [
    "XGBoost is used for supervised learning problems\n",
    "![](Image/xgboost.png)\n",
    "XGBoost is short for “Extreme Gradient Boosting”, where the term “Gradient Boosting” is proposed in the paper Greedy Function Approximation: A Gradient Boosting Machine, by Friedman. XGBoost is based on this original model. This is a tutorial on gradient boosted trees, and most of the content is based on these slides by the author of xgboost."
   ]
  },
  {
   "cell_type": "code",
   "execution_count": 30,
   "metadata": {
    "ExecuteTime": {
     "end_time": "2017-04-30T09:04:31.984228Z",
     "start_time": "2017-04-30T09:04:31.981779Z"
    },
    "collapsed": true
   },
   "outputs": [],
   "source": [
    "model_xgb = xgb.XGBClassifier(objective='multi:softmax')"
   ]
  },
  {
   "cell_type": "code",
   "execution_count": null,
   "metadata": {
    "collapsed": true
   },
   "outputs": [],
   "source": [
    "Training"
   ]
  },
  {
   "cell_type": "code",
   "execution_count": 32,
   "metadata": {
    "ExecuteTime": {
     "end_time": "2017-04-30T09:06:23.697693Z",
     "start_time": "2017-04-30T09:06:03.348778Z"
    }
   },
   "outputs": [
    {
     "data": {
      "text/plain": [
       "XGBClassifier(base_score=0.5, colsample_bylevel=1, colsample_bytree=1,\n",
       "       gamma=0, learning_rate=0.1, max_delta_step=0, max_depth=3,\n",
       "       min_child_weight=1, missing=None, n_estimators=100, nthread=-1,\n",
       "       objective='multi:softprob', reg_alpha=0, reg_lambda=1,\n",
       "       scale_pos_weight=1, seed=0, silent=True, subsample=1)"
      ]
     },
     "execution_count": 32,
     "metadata": {},
     "output_type": "execute_result"
    }
   ],
   "source": [
    "model_xgb.fit(train_X, train_Y_le,eval_metric='logloss')"
   ]
  },
  {
   "cell_type": "markdown",
   "metadata": {},
   "source": [
    "Prediction"
   ]
  },
  {
   "cell_type": "code",
   "execution_count": 33,
   "metadata": {
    "ExecuteTime": {
     "end_time": "2017-04-30T09:07:07.695147Z",
     "start_time": "2017-04-30T09:07:07.592562Z"
    }
   },
   "outputs": [
    {
     "data": {
      "text/plain": [
       "array([[ 0.0631774 ,  0.00437598,  0.03805678,  0.24815251,  0.64623731],\n",
       "       [ 0.71163774,  0.00158947,  0.01162452,  0.23473668,  0.04041154],\n",
       "       [ 0.3806577 ,  0.00439657,  0.02562449,  0.11442328,  0.47489795],\n",
       "       ..., \n",
       "       [ 0.00787238,  0.00828443,  0.09950516,  0.01203393,  0.87230408],\n",
       "       [ 0.55221218,  0.00162243,  0.02356715,  0.38111866,  0.04147961],\n",
       "       [ 0.09931849,  0.00504126,  0.11606991,  0.6198222 ,  0.15974812]], dtype=float32)"
      ]
     },
     "execution_count": 33,
     "metadata": {},
     "output_type": "execute_result"
    }
   ],
   "source": [
    "model_xgb.predict_proba(test_X)"
   ]
  },
  {
   "cell_type": "code",
   "execution_count": 34,
   "metadata": {
    "ExecuteTime": {
     "end_time": "2017-04-30T09:07:54.122325Z",
     "start_time": "2017-04-30T09:07:54.012074Z"
    },
    "collapsed": true
   },
   "outputs": [],
   "source": [
    "df_submit = pd.DataFrame(_,columns=['Adoption', \"Died\", \"Euthanasia\", \"Return_to_owner\", 'Transfer'])\n",
    "a = pd.concat([test_meta['AnimalID'].reset_index(),df_submit.reset_index()],axis=1)\n",
    "a.drop(['index'],axis=1,inplace=True)\n",
    "a.rename(columns={'AnimalID':'ID'},inplace=True)\n",
    "a.to_csv('submits/xgb.csv', index=False)"
   ]
  },
  {
   "cell_type": "markdown",
   "metadata": {},
   "source": [
    "## Deep Mano: a deep learning model"
   ]
  },
  {
   "cell_type": "markdown",
   "metadata": {},
   "source": [
    "### introduction"
   ]
  },
  {
   "cell_type": "markdown",
   "metadata": {},
   "source": [
    "![](Image/neural_network.png)\n",
    "What is a neural network? A neural network is a “connectionist” computational system. The computational systems we write are procedural; a program starts at the first line of code, executes it, and goes on to the next, following instructions in a linear fashion. A true neural network does not follow a linear path. Rather, information is processed collectively, in parallel throughout a network of nodes (the nodes, in this case, being neurons). - Daniel Shiffman"
   ]
  },
  {
   "cell_type": "markdown",
   "metadata": {},
   "source": [
    "### the simplest neural network"
   ]
  },
  {
   "cell_type": "code",
   "execution_count": 13,
   "metadata": {
    "ExecuteTime": {
     "end_time": "2017-05-01T18:11:18.926689Z",
     "start_time": "2017-05-01T18:11:18.589127Z"
    },
    "collapsed": true
   },
   "outputs": [],
   "source": [
    "model = Sequential()\n",
    "model.add(Dense(50, input_dim=314))\n",
    "#     if dropout > 0: model.add(Dropout(dropout))\n",
    "#     model.add(BatchNormalization())\n",
    "model.add(Activation('tanh'))\n",
    "\n",
    "model.add(Dense(5))\n",
    "model.add(Activation('softmax'))\n",
    "\n",
    "\n",
    "model.compile(optimizer='adam',loss='categorical_crossentropy',metrics=['accuracy'])\n",
    "#Adam(lr=0.001, beta_1=0.9, beta_2=0.999, epsilon=1e-08)"
   ]
  },
  {
   "cell_type": "code",
   "execution_count": 23,
   "metadata": {
    "ExecuteTime": {
     "end_time": "2017-04-30T16:36:32.312489Z",
     "start_time": "2017-04-30T16:36:32.301844Z"
    },
    "scrolled": false
   },
   "outputs": [
    {
     "name": "stdout",
     "output_type": "stream",
     "text": [
      "_________________________________________________________________\n",
      "Layer (type)                 Output Shape              Param #   \n",
      "=================================================================\n",
      "dense_2 (Dense)              (None, 50)                15750     \n",
      "_________________________________________________________________\n",
      "activation_1 (Activation)    (None, 50)                0         \n",
      "_________________________________________________________________\n",
      "dense_3 (Dense)              (None, 5)                 255       \n",
      "_________________________________________________________________\n",
      "activation_2 (Activation)    (None, 5)                 0         \n",
      "=================================================================\n",
      "Total params: 16,005\n",
      "Trainable params: 16,005\n",
      "Non-trainable params: 0\n",
      "_________________________________________________________________\n"
     ]
    }
   ],
   "source": [
    "model.summary()"
   ]
  },
  {
   "cell_type": "code",
   "execution_count": 14,
   "metadata": {
    "ExecuteTime": {
     "end_time": "2017-05-01T18:11:21.499598Z",
     "start_time": "2017-05-01T18:11:21.336962Z"
    }
   },
   "outputs": [
    {
     "data": {
      "image/svg+xml": [
       "<svg height=\"337pt\" viewBox=\"0.00 0.00 175.24 337.00\" width=\"175pt\" xmlns=\"http://www.w3.org/2000/svg\" xmlns:xlink=\"http://www.w3.org/1999/xlink\">\n",
       "<g class=\"graph\" id=\"graph0\" transform=\"scale(1 1) rotate(0) translate(4 333)\">\n",
       "<title>G</title>\n",
       "<polygon fill=\"white\" points=\"-4,4 -4,-333 171.238,-333 171.238,4 -4,4\" stroke=\"none\"/>\n",
       "<!-- 4910605984 -->\n",
       "<g class=\"node\" id=\"node1\"><title>4910605984</title>\n",
       "<polygon fill=\"none\" points=\"0,-292.5 0,-328.5 167.238,-328.5 167.238,-292.5 0,-292.5\" stroke=\"black\"/>\n",
       "<text font-family=\"Times,serif\" font-size=\"14.00\" text-anchor=\"middle\" x=\"83.6191\" y=\"-306.3\">dense_1_input: InputLayer</text>\n",
       "</g>\n",
       "<!-- 4910607720 -->\n",
       "<g class=\"node\" id=\"node2\"><title>4910607720</title>\n",
       "<polygon fill=\"none\" points=\"31.4932,-219.5 31.4932,-255.5 135.745,-255.5 135.745,-219.5 31.4932,-219.5\" stroke=\"black\"/>\n",
       "<text font-family=\"Times,serif\" font-size=\"14.00\" text-anchor=\"middle\" x=\"83.6191\" y=\"-233.3\">dense_1: Dense</text>\n",
       "</g>\n",
       "<!-- 4910605984&#45;&gt;4910607720 -->\n",
       "<g class=\"edge\" id=\"edge1\"><title>4910605984-&gt;4910607720</title>\n",
       "<path d=\"M83.6191,-292.313C83.6191,-284.289 83.6191,-274.547 83.6191,-265.569\" fill=\"none\" stroke=\"black\"/>\n",
       "<polygon fill=\"black\" points=\"87.1192,-265.529 83.6191,-255.529 80.1192,-265.529 87.1192,-265.529\" stroke=\"black\"/>\n",
       "</g>\n",
       "<!-- 4910606376 -->\n",
       "<g class=\"node\" id=\"node3\"><title>4910606376</title>\n",
       "<polygon fill=\"none\" points=\"8.15869,-146.5 8.15869,-182.5 159.08,-182.5 159.08,-146.5 8.15869,-146.5\" stroke=\"black\"/>\n",
       "<text font-family=\"Times,serif\" font-size=\"14.00\" text-anchor=\"middle\" x=\"83.6191\" y=\"-160.3\">activation_1: Activation</text>\n",
       "</g>\n",
       "<!-- 4910607720&#45;&gt;4910606376 -->\n",
       "<g class=\"edge\" id=\"edge2\"><title>4910607720-&gt;4910606376</title>\n",
       "<path d=\"M83.6191,-219.313C83.6191,-211.289 83.6191,-201.547 83.6191,-192.569\" fill=\"none\" stroke=\"black\"/>\n",
       "<polygon fill=\"black\" points=\"87.1192,-192.529 83.6191,-182.529 80.1192,-192.529 87.1192,-192.529\" stroke=\"black\"/>\n",
       "</g>\n",
       "<!-- 4905405240 -->\n",
       "<g class=\"node\" id=\"node4\"><title>4905405240</title>\n",
       "<polygon fill=\"none\" points=\"31.4932,-73.5 31.4932,-109.5 135.745,-109.5 135.745,-73.5 31.4932,-73.5\" stroke=\"black\"/>\n",
       "<text font-family=\"Times,serif\" font-size=\"14.00\" text-anchor=\"middle\" x=\"83.6191\" y=\"-87.3\">dense_2: Dense</text>\n",
       "</g>\n",
       "<!-- 4910606376&#45;&gt;4905405240 -->\n",
       "<g class=\"edge\" id=\"edge3\"><title>4910606376-&gt;4905405240</title>\n",
       "<path d=\"M83.6191,-146.313C83.6191,-138.289 83.6191,-128.547 83.6191,-119.569\" fill=\"none\" stroke=\"black\"/>\n",
       "<polygon fill=\"black\" points=\"87.1192,-119.529 83.6191,-109.529 80.1192,-119.529 87.1192,-119.529\" stroke=\"black\"/>\n",
       "</g>\n",
       "<!-- 4910605032 -->\n",
       "<g class=\"node\" id=\"node5\"><title>4910605032</title>\n",
       "<polygon fill=\"none\" points=\"8.15869,-0.5 8.15869,-36.5 159.08,-36.5 159.08,-0.5 8.15869,-0.5\" stroke=\"black\"/>\n",
       "<text font-family=\"Times,serif\" font-size=\"14.00\" text-anchor=\"middle\" x=\"83.6191\" y=\"-14.3\">activation_2: Activation</text>\n",
       "</g>\n",
       "<!-- 4905405240&#45;&gt;4910605032 -->\n",
       "<g class=\"edge\" id=\"edge4\"><title>4905405240-&gt;4910605032</title>\n",
       "<path d=\"M83.6191,-73.3129C83.6191,-65.2895 83.6191,-55.5475 83.6191,-46.5691\" fill=\"none\" stroke=\"black\"/>\n",
       "<polygon fill=\"black\" points=\"87.1192,-46.5288 83.6191,-36.5288 80.1192,-46.5289 87.1192,-46.5288\" stroke=\"black\"/>\n",
       "</g>\n",
       "</g>\n",
       "</svg>"
      ],
      "text/plain": [
       "<IPython.core.display.SVG object>"
      ]
     },
     "execution_count": 14,
     "metadata": {},
     "output_type": "execute_result"
    }
   ],
   "source": [
    "SVG(model_to_dot(model).create(prog='dot', format='svg'))"
   ]
  },
  {
   "cell_type": "markdown",
   "metadata": {},
   "source": [
    "### multitask/trasfer learning neural network"
   ]
  },
  {
   "cell_type": "markdown",
   "metadata": {},
   "source": [
    "The concept was introduced in Marc'Aurelio's CVPR 2014 tutorial(https://docs.google.com/viewer?a=v&pid=sites&srcid=ZGVmYXVsdGRvbWFpbnxsc3ZydHV0b3JpYWxjdnByMTR8Z3g6Njg5MmZkZTM1MDhhZWNmZA), 92page, or as below:\n",
    "![](https://camo.githubusercontent.com/9b5b091d632c5b923b706016ca15ee56e70c9958/687474703a2f2f322e62702e626c6f6773706f742e636f6d2f2d74736736742d63547857302f56626e31416c51776e72492f414141414141414143546b2f487a5548794e62547478492f73313630302f53637265656e25324253686f74253242323031352d30372d33302532426174253242253235453125323538342532353842253235453125323538352532354139253235453125323538342532353932253235453125323538352532354145253242362e35352e30312e706e67)"
   ]
  },
  {
   "cell_type": "code",
   "execution_count": 15,
   "metadata": {
    "ExecuteTime": {
     "end_time": "2017-05-01T18:11:25.124831Z",
     "start_time": "2017-05-01T18:11:24.733290Z"
    },
    "collapsed": true
   },
   "outputs": [],
   "source": [
    "a = Input(shape=(INPUT_DIM,))\n",
    "b = Dense(100,activation='relu')(a)\n",
    "# b = Dense(50,activation='relu')(b)\n",
    "# c = Dense(100,activation='relu')(b)\n",
    "# base_model = Model(inputs=a, outputs=c)\n",
    "\n",
    "outcome = Dense(5,activation='softmax', name='main')(b)\n",
    "model_outcomeOnly = Model(inputs=a, outputs=outcome)\n",
    "\n",
    "subTypeOutcome = Dense(16,activation='softmax', name='subtype')(b)\n",
    "model_outcomeWsubType = Model(inputs=a, outputs=[subTypeOutcome,outcome])\n",
    "model_outcomeWOsubType = Model(inputs=a, outputs=outcome)\n",
    "\n",
    "model_outcomeWsubType.compile(optimizer='adam', loss=['categorical_crossentropy', 'categorical_crossentropy'], metrics=['accuracy'])\n",
    "model_outcomeWOsubType.compile(optimizer='adam', loss='categorical_crossentropy', metrics=['accuracy'])\n",
    "#model.compile(optimizer='adam', loss=['binary_crossentropy', 'binary_crossentropy'], metrics=['accuracy'])"
   ]
  },
  {
   "cell_type": "code",
   "execution_count": 16,
   "metadata": {
    "ExecuteTime": {
     "end_time": "2017-05-01T18:11:27.262371Z",
     "start_time": "2017-05-01T18:11:27.165399Z"
    }
   },
   "outputs": [
    {
     "data": {
      "image/svg+xml": [
       "<svg height=\"191pt\" viewBox=\"0.00 0.00 214.15 191.00\" width=\"214pt\" xmlns=\"http://www.w3.org/2000/svg\" xmlns:xlink=\"http://www.w3.org/1999/xlink\">\n",
       "<g class=\"graph\" id=\"graph0\" transform=\"scale(1 1) rotate(0) translate(4 187)\">\n",
       "<title>G</title>\n",
       "<polygon fill=\"white\" points=\"-4,4 -4,-187 210.148,-187 210.148,4 -4,4\" stroke=\"none\"/>\n",
       "<!-- 4899880352 -->\n",
       "<g class=\"node\" id=\"node1\"><title>4899880352</title>\n",
       "<polygon fill=\"none\" points=\"42.7827,-146.5 42.7827,-182.5 171.145,-182.5 171.145,-146.5 42.7827,-146.5\" stroke=\"black\"/>\n",
       "<text font-family=\"Times,serif\" font-size=\"14.00\" text-anchor=\"middle\" x=\"106.964\" y=\"-160.3\">input_1: InputLayer</text>\n",
       "</g>\n",
       "<!-- 4899880408 -->\n",
       "<g class=\"node\" id=\"node2\"><title>4899880408</title>\n",
       "<polygon fill=\"none\" points=\"54.8379,-73.5 54.8379,-109.5 159.09,-109.5 159.09,-73.5 54.8379,-73.5\" stroke=\"black\"/>\n",
       "<text font-family=\"Times,serif\" font-size=\"14.00\" text-anchor=\"middle\" x=\"106.964\" y=\"-87.3\">dense_3: Dense</text>\n",
       "</g>\n",
       "<!-- 4899880352&#45;&gt;4899880408 -->\n",
       "<g class=\"edge\" id=\"edge1\"><title>4899880352-&gt;4899880408</title>\n",
       "<path d=\"M106.964,-146.313C106.964,-138.289 106.964,-128.547 106.964,-119.569\" fill=\"none\" stroke=\"black\"/>\n",
       "<polygon fill=\"black\" points=\"110.464,-119.529 106.964,-109.529 103.464,-119.529 110.464,-119.529\" stroke=\"black\"/>\n",
       "</g>\n",
       "<!-- 4899845232 -->\n",
       "<g class=\"node\" id=\"node3\"><title>4899845232</title>\n",
       "<polygon fill=\"none\" points=\"0,-0.5 0,-36.5 101.928,-36.5 101.928,-0.5 0,-0.5\" stroke=\"black\"/>\n",
       "<text font-family=\"Times,serif\" font-size=\"14.00\" text-anchor=\"middle\" x=\"50.9639\" y=\"-14.3\">subtype: Dense</text>\n",
       "</g>\n",
       "<!-- 4899880408&#45;&gt;4899845232 -->\n",
       "<g class=\"edge\" id=\"edge2\"><title>4899880408-&gt;4899845232</title>\n",
       "<path d=\"M93.4078,-73.3129C86.598,-64.679 78.2186,-54.0551 70.7091,-44.5341\" fill=\"none\" stroke=\"black\"/>\n",
       "<polygon fill=\"black\" points=\"73.336,-42.213 64.3951,-36.5288 67.8399,-46.548 73.336,-42.213\" stroke=\"black\"/>\n",
       "</g>\n",
       "<!-- 4899880744 -->\n",
       "<g class=\"node\" id=\"node4\"><title>4899880744</title>\n",
       "<polygon fill=\"none\" points=\"119.779,-0.5 119.779,-36.5 206.148,-36.5 206.148,-0.5 119.779,-0.5\" stroke=\"black\"/>\n",
       "<text font-family=\"Times,serif\" font-size=\"14.00\" text-anchor=\"middle\" x=\"162.964\" y=\"-14.3\">main: Dense</text>\n",
       "</g>\n",
       "<!-- 4899880408&#45;&gt;4899880744 -->\n",
       "<g class=\"edge\" id=\"edge3\"><title>4899880408-&gt;4899880744</title>\n",
       "<path d=\"M120.52,-73.3129C127.33,-64.679 135.709,-54.0551 143.219,-44.5341\" fill=\"none\" stroke=\"black\"/>\n",
       "<polygon fill=\"black\" points=\"146.088,-46.548 149.533,-36.5288 140.592,-42.213 146.088,-46.548\" stroke=\"black\"/>\n",
       "</g>\n",
       "</g>\n",
       "</svg>"
      ],
      "text/plain": [
       "<IPython.core.display.SVG object>"
      ]
     },
     "execution_count": 16,
     "metadata": {},
     "output_type": "execute_result"
    }
   ],
   "source": [
    "SVG(model_to_dot(model_outcomeWsubType).create(prog='dot', format='svg'))"
   ]
  },
  {
   "cell_type": "markdown",
   "metadata": {},
   "source": [
    "### Multitask + Embedding"
   ]
  },
  {
   "cell_type": "code",
   "execution_count": 4,
   "metadata": {
    "ExecuteTime": {
     "end_time": "2017-05-01T18:10:19.176869Z",
     "start_time": "2017-05-01T18:10:19.171381Z"
    },
    "collapsed": true
   },
   "outputs": [],
   "source": [
    "BASE_DIR = '.'\n",
    "GLOVE_DIR = BASE_DIR + '/glove.6B/'\n",
    "\n",
    "EMBEDDING_DIM = 50\n",
    "MAX_NAME = 300\n",
    "MAX_COLOR = 100"
   ]
  },
  {
   "cell_type": "code",
   "execution_count": null,
   "metadata": {
    "collapsed": true
   },
   "outputs": [],
   "source": [
    "glove = pd.read_csv(GLOVE_DIR + 'glove.6B.50d.txt',sep=' ', quoting=csv.QUOTE_NONE,header=['word'].extend(list(range(50))) )\n",
    "\n",
    "glove.set_index(0,inplace=True)"
   ]
  },
  {
   "cell_type": "code",
   "execution_count": 17,
   "metadata": {
    "ExecuteTime": {
     "end_time": "2017-05-02T06:56:44.964941Z",
     "start_time": "2017-05-02T06:56:43.643152Z"
    }
   },
   "outputs": [
    {
     "name": "stderr",
     "output_type": "stream",
     "text": [
      "/Users/heim/anaconda3/envs/35/lib/python3.5/site-packages/ipykernel_launcher.py:14: UserWarning: The `merge` function is deprecated and will be removed after 08/2017. Use instead layers from `keras.layers.merge`, e.g. `add`, `concatenate`, etc.\n",
      "  \n",
      "/Users/heim/anaconda3/envs/35/lib/python3.5/site-packages/keras/legacy/layers.py:460: UserWarning: The `Merge` layer is deprecated and will be removed after 08/2017. Use instead layers from `keras.layers.merge`, e.g. `add`, `concatenate`, etc.\n",
      "  name=name)\n"
     ]
    }
   ],
   "source": [
    "p=0.4\n",
    "a = Input(shape=(INPUT_DIM,), name='simpleFeature')\n",
    "inp = Input(shape=(3,), name='color')\n",
    "inp_name = Input(shape=(1,), name='name')\n",
    "# a_name = Embedding(MAX_NAME, EMBEDDING_DIM,weights=[embedding_matrix],input_length=1,trainable=True)(inp_name)\n",
    "a_name = Embedding(MAX_NAME, EMBEDDING_DIM,input_length=1,trainable=True)(inp_name)\n",
    "# a_color = Embedding(30, EMBEDDING_DIM, weights=[embedding_matrix_color],input_length=3,trainable= True)(inp)\n",
    "a_color = Embedding(30, EMBEDDING_DIM,input_length=3,trainable= True)(inp)\n",
    "s = Flatten()(a_name)\n",
    "# s = Dense(50,activation='relu')(s)\n",
    "s1 = Flatten()(a_color)\n",
    "# s1 = Dense(10,activation='relu')(s1)\n",
    "\n",
    "m = merge([s,a,s1], 'concat')\n",
    "s = Dense(100, activation='relu')(m)\n",
    "s = BatchNormalization()(s)\n",
    "s = Dropout(p)(s)\n",
    "b = Dense(50,activation='relu')(s)\n",
    "b = BatchNormalization()(b)\n",
    "b = Dropout(p/2)(b)\n",
    "b = Dense(50,activation='relu')(b)\n",
    "b = BatchNormalization()(b)\n",
    "b = Dropout(p/2)(b)\n",
    "# b = Dense(50,activation='relu')(b)\n",
    "# c = Dense(100,activation='relu')(b)\n",
    "# base_model = Model(inputs=a, outputs=c)\n",
    "\n",
    "outcome = Dense(5,activation='softmax', name='main')(b)\n",
    "# model_outcomeOnly = Model(inputs=a, outputs=outcome)\n",
    "\n",
    "subTypeOutcome = Dense(16,activation='softmax', name='subtype')(b)\n",
    "model_outcomeWsubType = Model(inputs=[inp_name,a,inp], outputs=[subTypeOutcome,outcome])\n",
    "# model_outcomeWOsubType = Model(inputs=a, outputs=outcome)\n",
    "\n",
    "model_outcomeWsubType.compile(optimizer='adam', loss=['categorical_crossentropy', 'categorical_crossentropy'], metrics=['accuracy'])\n",
    "# model_outcomeWOsubType.compile(optimizer='adam', loss='categorical_crossentropy', metrics=['accuracy'])\n",
    "#model.compile(optimizer='adam', loss=['binary_crossentropy', 'binary_crossentropy'], metrics=['accuracy'])"
   ]
  },
  {
   "cell_type": "code",
   "execution_count": 18,
   "metadata": {
    "ExecuteTime": {
     "end_time": "2017-05-02T06:56:47.479389Z",
     "start_time": "2017-05-02T06:56:46.479741Z"
    }
   },
   "outputs": [
    {
     "data": {
      "image/svg+xml": [
       "<svg height=\"994pt\" viewBox=\"0.00 0.00 484.14 994.00\" width=\"484pt\" xmlns=\"http://www.w3.org/2000/svg\" xmlns:xlink=\"http://www.w3.org/1999/xlink\">\n",
       "<g class=\"graph\" id=\"graph0\" transform=\"scale(1 1) rotate(0) translate(4 990)\">\n",
       "<title>G</title>\n",
       "<polygon fill=\"white\" points=\"-4,4 -4,-990 480.142,-990 480.142,4 -4,4\" stroke=\"none\"/>\n",
       "<!-- 4973070264 -->\n",
       "<g class=\"node\" id=\"node1\"><title>4973070264</title>\n",
       "<polygon fill=\"none\" points=\"24.1206,-949.5 24.1206,-985.5 140.021,-985.5 140.021,-949.5 24.1206,-949.5\" stroke=\"black\"/>\n",
       "<text font-family=\"Times,serif\" font-size=\"14.00\" text-anchor=\"middle\" x=\"82.0708\" y=\"-963.3\">name: InputLayer</text>\n",
       "</g>\n",
       "<!-- 4973069144 -->\n",
       "<g class=\"node\" id=\"node3\"><title>4973069144</title>\n",
       "<polygon fill=\"none\" points=\"0,-876.5 0,-912.5 164.142,-912.5 164.142,-876.5 0,-876.5\" stroke=\"black\"/>\n",
       "<text font-family=\"Times,serif\" font-size=\"14.00\" text-anchor=\"middle\" x=\"82.0708\" y=\"-890.3\">embedding_1: Embedding</text>\n",
       "</g>\n",
       "<!-- 4973070264&#45;&gt;4973069144 -->\n",
       "<g class=\"edge\" id=\"edge1\"><title>4973070264-&gt;4973069144</title>\n",
       "<path d=\"M82.0708,-949.313C82.0708,-941.289 82.0708,-931.547 82.0708,-922.569\" fill=\"none\" stroke=\"black\"/>\n",
       "<polygon fill=\"black\" points=\"85.5709,-922.529 82.0708,-912.529 78.5709,-922.529 85.5709,-922.529\" stroke=\"black\"/>\n",
       "</g>\n",
       "<!-- 4972969824 -->\n",
       "<g class=\"node\" id=\"node2\"><title>4972969824</title>\n",
       "<polygon fill=\"none\" points=\"336.896,-949.5 336.896,-985.5 451.245,-985.5 451.245,-949.5 336.896,-949.5\" stroke=\"black\"/>\n",
       "<text font-family=\"Times,serif\" font-size=\"14.00\" text-anchor=\"middle\" x=\"394.071\" y=\"-963.3\">color: InputLayer</text>\n",
       "</g>\n",
       "<!-- 4973070320 -->\n",
       "<g class=\"node\" id=\"node4\"><title>4973070320</title>\n",
       "<polygon fill=\"none\" points=\"312,-876.5 312,-912.5 476.142,-912.5 476.142,-876.5 312,-876.5\" stroke=\"black\"/>\n",
       "<text font-family=\"Times,serif\" font-size=\"14.00\" text-anchor=\"middle\" x=\"394.071\" y=\"-890.3\">embedding_2: Embedding</text>\n",
       "</g>\n",
       "<!-- 4972969824&#45;&gt;4973070320 -->\n",
       "<g class=\"edge\" id=\"edge2\"><title>4972969824-&gt;4973070320</title>\n",
       "<path d=\"M394.071,-949.313C394.071,-941.289 394.071,-931.547 394.071,-922.569\" fill=\"none\" stroke=\"black\"/>\n",
       "<polygon fill=\"black\" points=\"397.571,-922.529 394.071,-912.529 390.571,-922.529 397.571,-922.529\" stroke=\"black\"/>\n",
       "</g>\n",
       "<!-- 4973104880 -->\n",
       "<g class=\"node\" id=\"node5\"><title>4973104880</title>\n",
       "<polygon fill=\"none\" points=\"26.438,-803.5 26.438,-839.5 137.704,-839.5 137.704,-803.5 26.438,-803.5\" stroke=\"black\"/>\n",
       "<text font-family=\"Times,serif\" font-size=\"14.00\" text-anchor=\"middle\" x=\"82.0708\" y=\"-817.3\">flatten_1: Flatten</text>\n",
       "</g>\n",
       "<!-- 4973069144&#45;&gt;4973104880 -->\n",
       "<g class=\"edge\" id=\"edge3\"><title>4973069144-&gt;4973104880</title>\n",
       "<path d=\"M82.0708,-876.313C82.0708,-868.289 82.0708,-858.547 82.0708,-849.569\" fill=\"none\" stroke=\"black\"/>\n",
       "<polygon fill=\"black\" points=\"85.5709,-849.529 82.0708,-839.529 78.5709,-849.529 85.5709,-849.529\" stroke=\"black\"/>\n",
       "</g>\n",
       "<!-- 4973149936 -->\n",
       "<g class=\"node\" id=\"node7\"><title>4973149936</title>\n",
       "<polygon fill=\"none\" points=\"338.438,-803.5 338.438,-839.5 449.704,-839.5 449.704,-803.5 338.438,-803.5\" stroke=\"black\"/>\n",
       "<text font-family=\"Times,serif\" font-size=\"14.00\" text-anchor=\"middle\" x=\"394.071\" y=\"-817.3\">flatten_2: Flatten</text>\n",
       "</g>\n",
       "<!-- 4973070320&#45;&gt;4973149936 -->\n",
       "<g class=\"edge\" id=\"edge4\"><title>4973070320-&gt;4973149936</title>\n",
       "<path d=\"M394.071,-876.313C394.071,-868.289 394.071,-858.547 394.071,-849.569\" fill=\"none\" stroke=\"black\"/>\n",
       "<polygon fill=\"black\" points=\"397.571,-849.529 394.071,-839.529 390.571,-849.529 397.571,-849.529\" stroke=\"black\"/>\n",
       "</g>\n",
       "<!-- 4973271808 -->\n",
       "<g class=\"node\" id=\"node8\"><title>4973271808</title>\n",
       "<polygon fill=\"none\" points=\"183.863,-730.5 183.863,-766.5 292.278,-766.5 292.278,-730.5 183.863,-730.5\" stroke=\"black\"/>\n",
       "<text font-family=\"Times,serif\" font-size=\"14.00\" text-anchor=\"middle\" x=\"238.071\" y=\"-744.3\">merge_1: Merge</text>\n",
       "</g>\n",
       "<!-- 4973104880&#45;&gt;4973271808 -->\n",
       "<g class=\"edge\" id=\"edge5\"><title>4973104880-&gt;4973271808</title>\n",
       "<path d=\"M119.437,-803.494C140.986,-793.686 168.275,-781.266 191.247,-770.811\" fill=\"none\" stroke=\"black\"/>\n",
       "<polygon fill=\"black\" points=\"192.817,-773.942 200.469,-766.614 189.918,-767.57 192.817,-773.942\" stroke=\"black\"/>\n",
       "</g>\n",
       "<!-- 4972969768 -->\n",
       "<g class=\"node\" id=\"node6\"><title>4972969768</title>\n",
       "<polygon fill=\"none\" points=\"155.624,-803.5 155.624,-839.5 320.518,-839.5 320.518,-803.5 155.624,-803.5\" stroke=\"black\"/>\n",
       "<text font-family=\"Times,serif\" font-size=\"14.00\" text-anchor=\"middle\" x=\"238.071\" y=\"-817.3\">simpleFeature: InputLayer</text>\n",
       "</g>\n",
       "<!-- 4972969768&#45;&gt;4973271808 -->\n",
       "<g class=\"edge\" id=\"edge6\"><title>4972969768-&gt;4973271808</title>\n",
       "<path d=\"M238.071,-803.313C238.071,-795.289 238.071,-785.547 238.071,-776.569\" fill=\"none\" stroke=\"black\"/>\n",
       "<polygon fill=\"black\" points=\"241.571,-776.529 238.071,-766.529 234.571,-776.529 241.571,-776.529\" stroke=\"black\"/>\n",
       "</g>\n",
       "<!-- 4973149936&#45;&gt;4973271808 -->\n",
       "<g class=\"edge\" id=\"edge7\"><title>4973149936-&gt;4973271808</title>\n",
       "<path d=\"M356.705,-803.494C335.156,-793.686 307.867,-781.266 284.895,-770.811\" fill=\"none\" stroke=\"black\"/>\n",
       "<polygon fill=\"black\" points=\"286.224,-767.57 275.672,-766.614 283.324,-773.942 286.224,-767.57\" stroke=\"black\"/>\n",
       "</g>\n",
       "<!-- 4973303232 -->\n",
       "<g class=\"node\" id=\"node9\"><title>4973303232</title>\n",
       "<polygon fill=\"none\" points=\"185.945,-657.5 185.945,-693.5 290.197,-693.5 290.197,-657.5 185.945,-657.5\" stroke=\"black\"/>\n",
       "<text font-family=\"Times,serif\" font-size=\"14.00\" text-anchor=\"middle\" x=\"238.071\" y=\"-671.3\">dense_4: Dense</text>\n",
       "</g>\n",
       "<!-- 4973271808&#45;&gt;4973303232 -->\n",
       "<g class=\"edge\" id=\"edge8\"><title>4973271808-&gt;4973303232</title>\n",
       "<path d=\"M238.071,-730.313C238.071,-722.289 238.071,-712.547 238.071,-703.569\" fill=\"none\" stroke=\"black\"/>\n",
       "<polygon fill=\"black\" points=\"241.571,-703.529 238.071,-693.529 234.571,-703.529 241.571,-703.529\" stroke=\"black\"/>\n",
       "</g>\n",
       "<!-- 4973304856 -->\n",
       "<g class=\"node\" id=\"node10\"><title>4973304856</title>\n",
       "<polygon fill=\"none\" points=\"105.083,-584.5 105.083,-620.5 371.059,-620.5 371.059,-584.5 105.083,-584.5\" stroke=\"black\"/>\n",
       "<text font-family=\"Times,serif\" font-size=\"14.00\" text-anchor=\"middle\" x=\"238.071\" y=\"-598.3\">batch_normalization_1: BatchNormalization</text>\n",
       "</g>\n",
       "<!-- 4973303232&#45;&gt;4973304856 -->\n",
       "<g class=\"edge\" id=\"edge9\"><title>4973303232-&gt;4973304856</title>\n",
       "<path d=\"M238.071,-657.313C238.071,-649.289 238.071,-639.547 238.071,-630.569\" fill=\"none\" stroke=\"black\"/>\n",
       "<polygon fill=\"black\" points=\"241.571,-630.529 238.071,-620.529 234.571,-630.529 241.571,-630.529\" stroke=\"black\"/>\n",
       "</g>\n",
       "<!-- 4973349464 -->\n",
       "<g class=\"node\" id=\"node11\"><title>4973349464</title>\n",
       "<polygon fill=\"none\" points=\"174.269,-511.5 174.269,-547.5 301.873,-547.5 301.873,-511.5 174.269,-511.5\" stroke=\"black\"/>\n",
       "<text font-family=\"Times,serif\" font-size=\"14.00\" text-anchor=\"middle\" x=\"238.071\" y=\"-525.3\">dropout_1: Dropout</text>\n",
       "</g>\n",
       "<!-- 4973304856&#45;&gt;4973349464 -->\n",
       "<g class=\"edge\" id=\"edge10\"><title>4973304856-&gt;4973349464</title>\n",
       "<path d=\"M238.071,-584.313C238.071,-576.289 238.071,-566.547 238.071,-557.569\" fill=\"none\" stroke=\"black\"/>\n",
       "<polygon fill=\"black\" points=\"241.571,-557.529 238.071,-547.529 234.571,-557.529 241.571,-557.529\" stroke=\"black\"/>\n",
       "</g>\n",
       "<!-- 4973434360 -->\n",
       "<g class=\"node\" id=\"node12\"><title>4973434360</title>\n",
       "<polygon fill=\"none\" points=\"185.945,-438.5 185.945,-474.5 290.197,-474.5 290.197,-438.5 185.945,-438.5\" stroke=\"black\"/>\n",
       "<text font-family=\"Times,serif\" font-size=\"14.00\" text-anchor=\"middle\" x=\"238.071\" y=\"-452.3\">dense_5: Dense</text>\n",
       "</g>\n",
       "<!-- 4973349464&#45;&gt;4973434360 -->\n",
       "<g class=\"edge\" id=\"edge11\"><title>4973349464-&gt;4973434360</title>\n",
       "<path d=\"M238.071,-511.313C238.071,-503.289 238.071,-493.547 238.071,-484.569\" fill=\"none\" stroke=\"black\"/>\n",
       "<polygon fill=\"black\" points=\"241.571,-484.529 238.071,-474.529 234.571,-484.529 241.571,-484.529\" stroke=\"black\"/>\n",
       "</g>\n",
       "<!-- 4973350864 -->\n",
       "<g class=\"node\" id=\"node13\"><title>4973350864</title>\n",
       "<polygon fill=\"none\" points=\"105.083,-365.5 105.083,-401.5 371.059,-401.5 371.059,-365.5 105.083,-365.5\" stroke=\"black\"/>\n",
       "<text font-family=\"Times,serif\" font-size=\"14.00\" text-anchor=\"middle\" x=\"238.071\" y=\"-379.3\">batch_normalization_2: BatchNormalization</text>\n",
       "</g>\n",
       "<!-- 4973434360&#45;&gt;4973350864 -->\n",
       "<g class=\"edge\" id=\"edge12\"><title>4973434360-&gt;4973350864</title>\n",
       "<path d=\"M238.071,-438.313C238.071,-430.289 238.071,-420.547 238.071,-411.569\" fill=\"none\" stroke=\"black\"/>\n",
       "<polygon fill=\"black\" points=\"241.571,-411.529 238.071,-401.529 234.571,-411.529 241.571,-411.529\" stroke=\"black\"/>\n",
       "</g>\n",
       "<!-- 4974285488 -->\n",
       "<g class=\"node\" id=\"node14\"><title>4974285488</title>\n",
       "<polygon fill=\"none\" points=\"174.269,-292.5 174.269,-328.5 301.873,-328.5 301.873,-292.5 174.269,-292.5\" stroke=\"black\"/>\n",
       "<text font-family=\"Times,serif\" font-size=\"14.00\" text-anchor=\"middle\" x=\"238.071\" y=\"-306.3\">dropout_2: Dropout</text>\n",
       "</g>\n",
       "<!-- 4973350864&#45;&gt;4974285488 -->\n",
       "<g class=\"edge\" id=\"edge13\"><title>4973350864-&gt;4974285488</title>\n",
       "<path d=\"M238.071,-365.313C238.071,-357.289 238.071,-347.547 238.071,-338.569\" fill=\"none\" stroke=\"black\"/>\n",
       "<polygon fill=\"black\" points=\"241.571,-338.529 238.071,-328.529 234.571,-338.529 241.571,-338.529\" stroke=\"black\"/>\n",
       "</g>\n",
       "<!-- 4974453704 -->\n",
       "<g class=\"node\" id=\"node15\"><title>4974453704</title>\n",
       "<polygon fill=\"none\" points=\"185.945,-219.5 185.945,-255.5 290.197,-255.5 290.197,-219.5 185.945,-219.5\" stroke=\"black\"/>\n",
       "<text font-family=\"Times,serif\" font-size=\"14.00\" text-anchor=\"middle\" x=\"238.071\" y=\"-233.3\">dense_6: Dense</text>\n",
       "</g>\n",
       "<!-- 4974285488&#45;&gt;4974453704 -->\n",
       "<g class=\"edge\" id=\"edge14\"><title>4974285488-&gt;4974453704</title>\n",
       "<path d=\"M238.071,-292.313C238.071,-284.289 238.071,-274.547 238.071,-265.569\" fill=\"none\" stroke=\"black\"/>\n",
       "<polygon fill=\"black\" points=\"241.571,-265.529 238.071,-255.529 234.571,-265.529 241.571,-265.529\" stroke=\"black\"/>\n",
       "</g>\n",
       "<!-- 4973621032 -->\n",
       "<g class=\"node\" id=\"node16\"><title>4973621032</title>\n",
       "<polygon fill=\"none\" points=\"105.083,-146.5 105.083,-182.5 371.059,-182.5 371.059,-146.5 105.083,-146.5\" stroke=\"black\"/>\n",
       "<text font-family=\"Times,serif\" font-size=\"14.00\" text-anchor=\"middle\" x=\"238.071\" y=\"-160.3\">batch_normalization_3: BatchNormalization</text>\n",
       "</g>\n",
       "<!-- 4974453704&#45;&gt;4973621032 -->\n",
       "<g class=\"edge\" id=\"edge15\"><title>4974453704-&gt;4973621032</title>\n",
       "<path d=\"M238.071,-219.313C238.071,-211.289 238.071,-201.547 238.071,-192.569\" fill=\"none\" stroke=\"black\"/>\n",
       "<polygon fill=\"black\" points=\"241.571,-192.529 238.071,-182.529 234.571,-192.529 241.571,-192.529\" stroke=\"black\"/>\n",
       "</g>\n",
       "<!-- 4974972208 -->\n",
       "<g class=\"node\" id=\"node17\"><title>4974972208</title>\n",
       "<polygon fill=\"none\" points=\"174.269,-73.5 174.269,-109.5 301.873,-109.5 301.873,-73.5 174.269,-73.5\" stroke=\"black\"/>\n",
       "<text font-family=\"Times,serif\" font-size=\"14.00\" text-anchor=\"middle\" x=\"238.071\" y=\"-87.3\">dropout_3: Dropout</text>\n",
       "</g>\n",
       "<!-- 4973621032&#45;&gt;4974972208 -->\n",
       "<g class=\"edge\" id=\"edge16\"><title>4973621032-&gt;4974972208</title>\n",
       "<path d=\"M238.071,-146.313C238.071,-138.289 238.071,-128.547 238.071,-119.569\" fill=\"none\" stroke=\"black\"/>\n",
       "<polygon fill=\"black\" points=\"241.571,-119.529 238.071,-109.529 234.571,-119.529 241.571,-119.529\" stroke=\"black\"/>\n",
       "</g>\n",
       "<!-- 4974969856 -->\n",
       "<g class=\"node\" id=\"node18\"><title>4974969856</title>\n",
       "<polygon fill=\"none\" points=\"131.107,-0.5 131.107,-36.5 233.035,-36.5 233.035,-0.5 131.107,-0.5\" stroke=\"black\"/>\n",
       "<text font-family=\"Times,serif\" font-size=\"14.00\" text-anchor=\"middle\" x=\"182.071\" y=\"-14.3\">subtype: Dense</text>\n",
       "</g>\n",
       "<!-- 4974972208&#45;&gt;4974969856 -->\n",
       "<g class=\"edge\" id=\"edge17\"><title>4974972208-&gt;4974969856</title>\n",
       "<path d=\"M224.515,-73.3129C217.705,-64.679 209.326,-54.0551 201.816,-44.5341\" fill=\"none\" stroke=\"black\"/>\n",
       "<polygon fill=\"black\" points=\"204.443,-42.213 195.502,-36.5288 198.947,-46.548 204.443,-42.213\" stroke=\"black\"/>\n",
       "</g>\n",
       "<!-- 4975324240 -->\n",
       "<g class=\"node\" id=\"node19\"><title>4975324240</title>\n",
       "<polygon fill=\"none\" points=\"250.886,-0.5 250.886,-36.5 337.255,-36.5 337.255,-0.5 250.886,-0.5\" stroke=\"black\"/>\n",
       "<text font-family=\"Times,serif\" font-size=\"14.00\" text-anchor=\"middle\" x=\"294.071\" y=\"-14.3\">main: Dense</text>\n",
       "</g>\n",
       "<!-- 4974972208&#45;&gt;4975324240 -->\n",
       "<g class=\"edge\" id=\"edge18\"><title>4974972208-&gt;4975324240</title>\n",
       "<path d=\"M251.627,-73.3129C258.437,-64.679 266.816,-54.0551 274.326,-44.5341\" fill=\"none\" stroke=\"black\"/>\n",
       "<polygon fill=\"black\" points=\"277.195,-46.548 280.64,-36.5288 271.699,-42.213 277.195,-46.548\" stroke=\"black\"/>\n",
       "</g>\n",
       "</g>\n",
       "</svg>"
      ],
      "text/plain": [
       "<IPython.core.display.SVG object>"
      ]
     },
     "execution_count": 18,
     "metadata": {},
     "output_type": "execute_result"
    }
   ],
   "source": [
    "SVG(model_to_dot(model_outcomeWsubType).create(prog='dot', format='svg'))"
   ]
  },
  {
   "cell_type": "markdown",
   "metadata": {},
   "source": [
    "# Result, Disscussion & Acheivement"
   ]
  },
  {
   "cell_type": "markdown",
   "metadata": {},
   "source": [
    "The table shown below are the results decribed in **Logloss** value which is calculated by Kaggle after submitted on website. We have tested on both **Clean** and ** Dirty** dataset.\n",
    "\n",
    "**Dirty**: The original dataset\n",
    "\n",
    "**Clean**: Preprocessed dataset\n",
    "\n",
    "Model | Logloss | Dataset\n",
    "------------ | ------------- | -------------\n",
    "Logistic Regression | 0.84646 | Dirty\n",
    "Simple Neural Network | 0.88797 | Dirty\n",
    "Multitask Neural Network | 0.86943 | Dirty\n",
    "Simple Neural Network | 0.83285 | Clean\n",
    "2 Hidden Layers Neural Network | 0.88984 | Clean\n",
    "1 Hidden Layers Neural Network with Dropout | 0.90777 | Clean\n",
    "Multitask Neural Network | 0.96583 | Clean\n",
    "TPOT | 0.79338 | Clean\n",
    "XGBoost | 0.80354 | Clean\n",
    "Multitask Neural Network with Embbeding | 0.84423 | Clean\n",
    "\n"
   ]
  },
  {
   "cell_type": "markdown",
   "metadata": {},
   "source": [
    "## Here is the list of what we got"
   ]
  },
  {
   "cell_type": "markdown",
   "metadata": {
    "ExecuteTime": {
     "end_time": "2017-04-30T16:51:27.912872Z",
     "start_time": "2017-04-30T16:51:27.911093Z"
    }
   },
   "source": [
    "### Multitask Neural Network beats Simple/Hidden Layer Neural Neteork"
   ]
  },
  {
   "cell_type": "markdown",
   "metadata": {
    "ExecuteTime": {
     "end_time": "2017-04-30T16:54:17.775993Z",
     "start_time": "2017-04-30T16:54:17.773580Z"
    }
   },
   "source": [
    "### Neural Network requires lots and lots of hyperparameter tuning\n",
    "> no time will be enough"
   ]
  },
  {
   "cell_type": "markdown",
   "metadata": {
    "ExecuteTime": {
     "end_time": "2017-04-30T16:55:06.423110Z",
     "start_time": "2017-04-30T16:55:06.421552Z"
    }
   },
   "source": [
    "### TPOT: a genetic algorythm just beats all."
   ]
  },
  {
   "cell_type": "markdown",
   "metadata": {
    "ExecuteTime": {
     "end_time": "2017-04-30T16:57:05.247836Z",
     "start_time": "2017-04-30T16:57:05.246103Z"
    }
   },
   "source": [
    "### Multitask Neural Network with Embbeding enable us to turn throw-away textual features like name, color into more powerful model"
   ]
  },
  {
   "cell_type": "code",
   "execution_count": null,
   "metadata": {
    "collapsed": true
   },
   "outputs": [],
   "source": []
  }
 ],
 "metadata": {
  "anaconda-cloud": {},
  "celltoolbar": "Initialization Cell",
  "hide_input": false,
  "kernelspec": {
   "display_name": "Python 3",
   "language": "python",
   "name": "python3"
  },
  "language_info": {
   "codemirror_mode": {
    "name": "ipython",
    "version": 3
   },
   "file_extension": ".py",
   "mimetype": "text/x-python",
   "name": "python",
   "nbconvert_exporter": "python",
   "pygments_lexer": "ipython3",
   "version": "3.6.2"
  },
  "toc": {
   "colors": {
    "hover_highlight": "#DAA520",
    "running_highlight": "#FF0000",
    "selected_highlight": "#FFD700"
   },
   "moveMenuLeft": true,
   "nav_menu": {
    "height": "512px",
    "width": "252px"
   },
   "navigate_menu": true,
   "number_sections": true,
   "sideBar": true,
   "threshold": 4,
   "toc_cell": false,
   "toc_section_display": "block",
   "toc_window_display": false,
   "widenNotebook": false
  },
  "varInspector": {
   "cols": {
    "lenName": 16,
    "lenType": 16,
    "lenVar": 40
   },
   "kernels_config": {
    "python": {
     "delete_cmd_postfix": "",
     "delete_cmd_prefix": "del ",
     "library": "var_list.py",
     "varRefreshCmd": "print(var_dic_list())"
    },
    "r": {
     "delete_cmd_postfix": ") ",
     "delete_cmd_prefix": "rm(",
     "library": "var_list.r",
     "varRefreshCmd": "cat(var_dic_list()) "
    }
   },
   "types_to_exclude": [
    "module",
    "function",
    "builtin_function_or_method",
    "instance",
    "_Feature"
   ],
   "window_display": false
  }
 },
 "nbformat": 4,
 "nbformat_minor": 1
}
