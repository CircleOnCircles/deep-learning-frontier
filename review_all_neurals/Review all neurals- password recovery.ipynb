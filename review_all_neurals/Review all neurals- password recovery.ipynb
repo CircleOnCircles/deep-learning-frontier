{
 "cells": [
  {
   "cell_type": "code",
   "execution_count": 1,
   "metadata": {
    "collapsed": false,
    "deletable": true,
    "editable": true
   },
   "outputs": [],
   "source": [
    "from neupy import environment\n",
    "environment.reproducible()"
   ]
  },
  {
   "cell_type": "code",
   "execution_count": 2,
   "metadata": {
    "collapsed": false,
    "deletable": true,
    "editable": true
   },
   "outputs": [
    {
     "data": {
      "text/plain": [
       "'0.5.1'"
      ]
     },
     "execution_count": 2,
     "metadata": {},
     "output_type": "execute_result"
    }
   ],
   "source": [
    "import neupy\n",
    "neupy.__version__\n",
    "\n"
   ]
  },
  {
   "cell_type": "code",
   "execution_count": 3,
   "metadata": {
    "collapsed": false,
    "deletable": true,
    "editable": true
   },
   "outputs": [
    {
     "data": {
      "text/plain": [
       "'1.12.0'"
      ]
     },
     "execution_count": 3,
     "metadata": {},
     "output_type": "execute_result"
    }
   ],
   "source": [
    "import numpy\n",
    "numpy.__version__\n",
    "\n"
   ]
  },
  {
   "cell_type": "code",
   "execution_count": 4,
   "metadata": {
    "collapsed": false,
    "deletable": true,
    "editable": true
   },
   "outputs": [
    {
     "data": {
      "text/plain": [
       "'3.5.2'"
      ]
     },
     "execution_count": 4,
     "metadata": {},
     "output_type": "execute_result"
    }
   ],
   "source": [
    "import platform\n",
    "platform.python_version()"
   ]
  },
  {
   "cell_type": "code",
   "execution_count": 5,
   "metadata": {
    "collapsed": true,
    "deletable": true,
    "editable": true
   },
   "outputs": [],
   "source": [
    "def str2bin(text, max_length=30):\n",
    "    if len(text) > max_length:\n",
    "        raise ValueError(\"Text can't contains more \"\n",
    "                         \"than {} symbols\".format(max_length))\n",
    "\n",
    "    text = text.rjust(max_length)\n",
    "\n",
    "    bits_list = []\n",
    "    for symbol in text:\n",
    "        bits = bin(ord(symbol))\n",
    "        # Cut `0b` from the beggining and fill with zeros if they\n",
    "        # are missed\n",
    "        bits = bits[2:].zfill(8)\n",
    "        bits_list.extend(map(int, bits))\n",
    "\n",
    "    return list(bits_list)"
   ]
  },
  {
   "cell_type": "code",
   "execution_count": 6,
   "metadata": {
    "collapsed": false,
    "deletable": true,
    "editable": true
   },
   "outputs": [],
   "source": [
    "a = bin(ord('t'))[2:].zfill(8)"
   ]
  },
  {
   "cell_type": "code",
   "execution_count": null,
   "metadata": {
    "collapsed": false,
    "deletable": true,
    "editable": true
   },
   "outputs": [],
   "source": [
    "b = map(int, a)"
   ]
  },
  {
   "cell_type": "code",
   "execution_count": null,
   "metadata": {
    "collapsed": false,
    "deletable": true,
    "editable": true
   },
   "outputs": [],
   "source": [
    "bits_list = []"
   ]
  },
  {
   "cell_type": "code",
   "execution_count": null,
   "metadata": {
    "collapsed": true,
    "deletable": true,
    "editable": true
   },
   "outputs": [],
   "source": [
    "bits_list.extend(b)"
   ]
  },
  {
   "cell_type": "code",
   "execution_count": null,
   "metadata": {
    "collapsed": false,
    "deletable": true,
    "editable": true
   },
   "outputs": [],
   "source": [
    "bits_list == list(map(int, a))"
   ]
  },
  {
   "cell_type": "code",
   "execution_count": 7,
   "metadata": {
    "collapsed": true,
    "deletable": true,
    "editable": true
   },
   "outputs": [],
   "source": [
    "def chunker(sequence, size):\n",
    "    for position in range(0, len(sequence), size):\n",
    "        yield sequence[position:position + size]\n",
    "\n",
    "def bin2str(array):\n",
    "    characters = []\n",
    "    for binary_symbol_code in chunker(array, size=8):\n",
    "        binary_symbol_str = ''.join(map(str, binary_symbol_code))\n",
    "        character = chr(int(binary_symbol_str, base=2))\n",
    "        characters.append(character)\n",
    "    return ''.join(characters).lstrip()"
   ]
  },
  {
   "cell_type": "code",
   "execution_count": 8,
   "metadata": {
    "collapsed": true
   },
   "outputs": [],
   "source": [
    "import numpy as np\n",
    "from neupy import algorithms\n",
    "\n",
    "def save_password(real_password, noise_level=5):\n",
    "    if noise_level < 1:\n",
    "        raise ValueError(\"`noise_level` must be equal or greater than 1.\")\n",
    "\n",
    "    binary_password = str2bin(real_password)\n",
    "    bin_password_len = len(binary_password)\n",
    "\n",
    "    data = [binary_password]\n",
    "\n",
    "    for _ in range(noise_level):\n",
    "        # The farther from the 0.5 value the less likely\n",
    "        # password recovery\n",
    "        noise = np.random.binomial(1, 0.55, bin_password_len)\n",
    "        data.append(noise)\n",
    "\n",
    "    dhnet = algorithms.DiscreteHopfieldNetwork(mode='sync')\n",
    "    dhnet.train(np.array(data))\n",
    "\n",
    "    return dhnet"
   ]
  },
  {
   "cell_type": "code",
   "execution_count": 9,
   "metadata": {
    "collapsed": true
   },
   "outputs": [],
   "source": [
    "import string\n",
    "import random\n",
    "\n",
    "def hamming_distance(left, right):\n",
    "    left, right = np.array(left), np.array(right)\n",
    "    if left.shape != right.shape:\n",
    "        raise ValueError(\"Shapes must be equal\")\n",
    "    return (left != right).sum()\n",
    "\n",
    "def generate_password(min_length=5, max_length=30):\n",
    "    symbols = list(\n",
    "        string.ascii_letters +\n",
    "        string.digits +\n",
    "        string.punctuation\n",
    "    )\n",
    "    password_len = random.randrange(min_length, max_length + 1)\n",
    "    password = [np.random.choice(symbols) for _ in range(password_len)]\n",
    "    return ''.join(password)"
   ]
  },
  {
   "cell_type": "code",
   "execution_count": 10,
   "metadata": {
    "collapsed": false
   },
   "outputs": [
    {
     "data": {
      "text/plain": [
       "'abcdefghijklmnopqrstuvwxyzABCDEFGHIJKLMNOPQRSTUVWXYZ'"
      ]
     },
     "execution_count": 10,
     "metadata": {},
     "output_type": "execute_result"
    }
   ],
   "source": [
    "string.ascii_letters"
   ]
  },
  {
   "cell_type": "code",
   "execution_count": 11,
   "metadata": {
    "collapsed": true
   },
   "outputs": [],
   "source": [
    "def recover_password(dhnet, broken_password):\n",
    "    test = np.array(str2bin(broken_password))\n",
    "    recovered_password = dhnet.predict(test)\n",
    "\n",
    "    if recovered_password.ndim == 2:\n",
    "        recovered_password = recovered_password[0, :]\n",
    "\n",
    "    return bin2str(recovered_password)"
   ]
  },
  {
   "cell_type": "code",
   "execution_count": 12,
   "metadata": {
    "collapsed": false
   },
   "outputs": [
    {
     "data": {
      "text/plain": [
       "'$My%Super^Secret*^&Passwd'"
      ]
     },
     "execution_count": 12,
     "metadata": {},
     "output_type": "execute_result"
    }
   ],
   "source": [
    "my_password = \"$My%Super^Secret*^&Passwd\"\n",
    "dhnet = save_password(my_password, noise_level=12)\n",
    "recover_password(dhnet, \"-My-Super-Secret---Passwd\")"
   ]
  },
  {
   "cell_type": "code",
   "execution_count": 13,
   "metadata": {
    "collapsed": false
   },
   "outputs": [
    {
     "data": {
      "text/plain": [
       "True"
      ]
     },
     "execution_count": 13,
     "metadata": {},
     "output_type": "execute_result"
    }
   ],
   "source": [
    "_ == my_password\n"
   ]
  },
  {
   "cell_type": "code",
   "execution_count": 14,
   "metadata": {
    "collapsed": false
   },
   "outputs": [
    {
     "data": {
      "text/plain": [
       "'`¢0 1\\x04L{\\x05C5par\\x1e[ecòg}\\n^&Pcñq}\\x04'"
      ]
     },
     "execution_count": 14,
     "metadata": {},
     "output_type": "execute_result"
    }
   ],
   "source": [
    "recover_password(dhnet, \"-My-Super\")"
   ]
  },
  {
   "cell_type": "code",
   "execution_count": 15,
   "metadata": {
    "collapsed": false
   },
   "outputs": [
    {
     "data": {
      "text/plain": [
       "'`\\xa05 q\\x04H{\\x02A5p!R>PeãòE}\\n\\\\$\\x10cqq}\\x00'"
      ]
     },
     "execution_count": 15,
     "metadata": {},
     "output_type": "execute_result"
    }
   ],
   "source": [
    "recover_password(dhnet, \"Invalid\")"
   ]
  },
  {
   "cell_type": "code",
   "execution_count": 16,
   "metadata": {
    "collapsed": false
   },
   "outputs": [
    {
     "data": {
      "text/plain": [
       "'$M{!Super^Searet*^&Passwd'"
      ]
     },
     "execution_count": 16,
     "metadata": {},
     "output_type": "execute_result"
    }
   ],
   "source": [
    "recover_password(dhnet, \"MySuperSecretPasswd\")"
   ]
  },
  {
   "cell_type": "code",
   "execution_count": 17,
   "metadata": {
    "collapsed": false
   },
   "outputs": [
    {
     "name": "stdout",
     "output_type": "stream",
     "text": [
      "Number of fails for each test case:\n",
      "OrderedDict([('exclude-one', 13),\n",
      "             ('exclude-quarter', 721),\n",
      "             ('exclude-half', 5811),\n",
      "             ('just-one-symbol', 9997),\n",
      "             ('empty-string', 10000)])\n"
     ]
    }
   ],
   "source": [
    "import pprint\n",
    "from operator import itemgetter\n",
    "from collections import OrderedDict\n",
    "\n",
    "def cutword(word, k, fromleft=False):\n",
    "    if fromleft:\n",
    "        return (word[-k:] if k != 0 else '').rjust(len(word))\n",
    "    return (word[:k] if k != 0 else '').ljust(len(word))\n",
    "\n",
    "n_times = 10000\n",
    "cases = OrderedDict([\n",
    "    ('exclude-one', (lambda x: x - 1)),\n",
    "    ('exclude-quarter', (lambda x: 3 * x // 4)),\n",
    "    ('exclude-half', (lambda x: x // 2)),\n",
    "    ('just-one-symbol', (lambda x: 1)),\n",
    "    ('empty-string', (lambda x: 0)),\n",
    "])\n",
    "results = OrderedDict.fromkeys(cases.keys(), 0)\n",
    "\n",
    "for _ in range(n_times):\n",
    "    real_password = generate_password(min_length=25, max_length=25)\n",
    "\n",
    "    for casename, func in cases.items():\n",
    "        n_letters = func(len(real_password))\n",
    "        broken_password = cutword(real_password, k=n_letters,\n",
    "                                  fromleft=True)\n",
    "\n",
    "        dhnet = save_password(real_password, noise_level=11)\n",
    "        recovered_password = recover_password(dhnet, broken_password)\n",
    "\n",
    "        if recovered_password != real_password:\n",
    "            results[casename] += 1\n",
    "\n",
    "print(\"Number of fails for each test case:\")\n",
    "pprint.pprint(results)"
   ]
  },
  {
   "cell_type": "code",
   "execution_count": null,
   "metadata": {
    "collapsed": true
   },
   "outputs": [],
   "source": []
  }
 ],
 "metadata": {
  "kernelspec": {
   "display_name": "Python [conda root]",
   "language": "python",
   "name": "conda-root-py"
  },
  "language_info": {
   "codemirror_mode": {
    "name": "ipython",
    "version": 3
   },
   "file_extension": ".py",
   "mimetype": "text/x-python",
   "name": "python",
   "nbconvert_exporter": "python",
   "pygments_lexer": "ipython3",
   "version": "3.5.2"
  }
 },
 "nbformat": 4,
 "nbformat_minor": 2
}
