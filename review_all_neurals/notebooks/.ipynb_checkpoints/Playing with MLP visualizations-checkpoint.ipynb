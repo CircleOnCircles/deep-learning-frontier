{
 "cells": [
  {
   "cell_type": "code",
   "execution_count": 3,
   "metadata": {
    "collapsed": false
   },
   "outputs": [
    {
     "name": "stderr",
     "output_type": "stream",
     "text": [
      "ERROR:root:Line magic function `%pip` not found.\n"
     ]
    }
   ],
   "source": [
    "pip install watermark"
   ]
  },
  {
   "cell_type": "code",
   "execution_count": 1,
   "metadata": {
    "collapsed": false
   },
   "outputs": [
    {
     "ename": "ImportError",
     "evalue": "No module named 'watermark'",
     "output_type": "error",
     "traceback": [
      "\u001b[0;31m---------------------------------------------------------------------------\u001b[0m",
      "\u001b[0;31mImportError\u001b[0m                               Traceback (most recent call last)",
      "\u001b[0;32m<ipython-input-1-47b834dc789b>\u001b[0m in \u001b[0;36m<module>\u001b[0;34m()\u001b[0m\n\u001b[0;32m----> 1\u001b[0;31m \u001b[0mget_ipython\u001b[0m\u001b[0;34m(\u001b[0m\u001b[0;34m)\u001b[0m\u001b[0;34m.\u001b[0m\u001b[0mmagic\u001b[0m\u001b[0;34m(\u001b[0m\u001b[0;34m'load_ext watermark'\u001b[0m\u001b[0;34m)\u001b[0m\u001b[0;34m\u001b[0m\u001b[0m\n\u001b[0m\u001b[1;32m      2\u001b[0m \u001b[0mget_ipython\u001b[0m\u001b[0;34m(\u001b[0m\u001b[0;34m)\u001b[0m\u001b[0;34m.\u001b[0m\u001b[0mmagic\u001b[0m\u001b[0;34m(\u001b[0m\u001b[0;34m'watermark -u -n -t -z -v -p numpy,scipy,neupy,scikit-learn,matplotlib'\u001b[0m\u001b[0;34m)\u001b[0m\u001b[0;34m\u001b[0m\u001b[0m\n",
      "\u001b[0;32m/Users/heim/anaconda/lib/python3.5/site-packages/IPython/core/interactiveshell.py\u001b[0m in \u001b[0;36mmagic\u001b[0;34m(self, arg_s)\u001b[0m\n\u001b[1;32m   2156\u001b[0m         \u001b[0mmagic_name\u001b[0m\u001b[0;34m,\u001b[0m \u001b[0m_\u001b[0m\u001b[0;34m,\u001b[0m \u001b[0mmagic_arg_s\u001b[0m \u001b[0;34m=\u001b[0m \u001b[0marg_s\u001b[0m\u001b[0;34m.\u001b[0m\u001b[0mpartition\u001b[0m\u001b[0;34m(\u001b[0m\u001b[0;34m' '\u001b[0m\u001b[0;34m)\u001b[0m\u001b[0;34m\u001b[0m\u001b[0m\n\u001b[1;32m   2157\u001b[0m         \u001b[0mmagic_name\u001b[0m \u001b[0;34m=\u001b[0m \u001b[0mmagic_name\u001b[0m\u001b[0;34m.\u001b[0m\u001b[0mlstrip\u001b[0m\u001b[0;34m(\u001b[0m\u001b[0mprefilter\u001b[0m\u001b[0;34m.\u001b[0m\u001b[0mESC_MAGIC\u001b[0m\u001b[0;34m)\u001b[0m\u001b[0;34m\u001b[0m\u001b[0m\n\u001b[0;32m-> 2158\u001b[0;31m         \u001b[0;32mreturn\u001b[0m \u001b[0mself\u001b[0m\u001b[0;34m.\u001b[0m\u001b[0mrun_line_magic\u001b[0m\u001b[0;34m(\u001b[0m\u001b[0mmagic_name\u001b[0m\u001b[0;34m,\u001b[0m \u001b[0mmagic_arg_s\u001b[0m\u001b[0;34m)\u001b[0m\u001b[0;34m\u001b[0m\u001b[0m\n\u001b[0m\u001b[1;32m   2159\u001b[0m \u001b[0;34m\u001b[0m\u001b[0m\n\u001b[1;32m   2160\u001b[0m     \u001b[0;31m#-------------------------------------------------------------------------\u001b[0m\u001b[0;34m\u001b[0m\u001b[0;34m\u001b[0m\u001b[0m\n",
      "\u001b[0;32m/Users/heim/anaconda/lib/python3.5/site-packages/IPython/core/interactiveshell.py\u001b[0m in \u001b[0;36mrun_line_magic\u001b[0;34m(self, magic_name, line)\u001b[0m\n\u001b[1;32m   2077\u001b[0m                 \u001b[0mkwargs\u001b[0m\u001b[0;34m[\u001b[0m\u001b[0;34m'local_ns'\u001b[0m\u001b[0;34m]\u001b[0m \u001b[0;34m=\u001b[0m \u001b[0msys\u001b[0m\u001b[0;34m.\u001b[0m\u001b[0m_getframe\u001b[0m\u001b[0;34m(\u001b[0m\u001b[0mstack_depth\u001b[0m\u001b[0;34m)\u001b[0m\u001b[0;34m.\u001b[0m\u001b[0mf_locals\u001b[0m\u001b[0;34m\u001b[0m\u001b[0m\n\u001b[1;32m   2078\u001b[0m             \u001b[0;32mwith\u001b[0m \u001b[0mself\u001b[0m\u001b[0;34m.\u001b[0m\u001b[0mbuiltin_trap\u001b[0m\u001b[0;34m:\u001b[0m\u001b[0;34m\u001b[0m\u001b[0m\n\u001b[0;32m-> 2079\u001b[0;31m                 \u001b[0mresult\u001b[0m \u001b[0;34m=\u001b[0m \u001b[0mfn\u001b[0m\u001b[0;34m(\u001b[0m\u001b[0;34m*\u001b[0m\u001b[0margs\u001b[0m\u001b[0;34m,\u001b[0m\u001b[0;34m**\u001b[0m\u001b[0mkwargs\u001b[0m\u001b[0;34m)\u001b[0m\u001b[0;34m\u001b[0m\u001b[0m\n\u001b[0m\u001b[1;32m   2080\u001b[0m             \u001b[0;32mreturn\u001b[0m \u001b[0mresult\u001b[0m\u001b[0;34m\u001b[0m\u001b[0m\n\u001b[1;32m   2081\u001b[0m \u001b[0;34m\u001b[0m\u001b[0m\n",
      "\u001b[0;32m<decorator-gen-62>\u001b[0m in \u001b[0;36mload_ext\u001b[0;34m(self, module_str)\u001b[0m\n",
      "\u001b[0;32m/Users/heim/anaconda/lib/python3.5/site-packages/IPython/core/magic.py\u001b[0m in \u001b[0;36m<lambda>\u001b[0;34m(f, *a, **k)\u001b[0m\n\u001b[1;32m    186\u001b[0m     \u001b[0;31m# but it's overkill for just that one bit of state.\u001b[0m\u001b[0;34m\u001b[0m\u001b[0;34m\u001b[0m\u001b[0m\n\u001b[1;32m    187\u001b[0m     \u001b[0;32mdef\u001b[0m \u001b[0mmagic_deco\u001b[0m\u001b[0;34m(\u001b[0m\u001b[0marg\u001b[0m\u001b[0;34m)\u001b[0m\u001b[0;34m:\u001b[0m\u001b[0;34m\u001b[0m\u001b[0m\n\u001b[0;32m--> 188\u001b[0;31m         \u001b[0mcall\u001b[0m \u001b[0;34m=\u001b[0m \u001b[0;32mlambda\u001b[0m \u001b[0mf\u001b[0m\u001b[0;34m,\u001b[0m \u001b[0;34m*\u001b[0m\u001b[0ma\u001b[0m\u001b[0;34m,\u001b[0m \u001b[0;34m**\u001b[0m\u001b[0mk\u001b[0m\u001b[0;34m:\u001b[0m \u001b[0mf\u001b[0m\u001b[0;34m(\u001b[0m\u001b[0;34m*\u001b[0m\u001b[0ma\u001b[0m\u001b[0;34m,\u001b[0m \u001b[0;34m**\u001b[0m\u001b[0mk\u001b[0m\u001b[0;34m)\u001b[0m\u001b[0;34m\u001b[0m\u001b[0m\n\u001b[0m\u001b[1;32m    189\u001b[0m \u001b[0;34m\u001b[0m\u001b[0m\n\u001b[1;32m    190\u001b[0m         \u001b[0;32mif\u001b[0m \u001b[0mcallable\u001b[0m\u001b[0;34m(\u001b[0m\u001b[0marg\u001b[0m\u001b[0;34m)\u001b[0m\u001b[0;34m:\u001b[0m\u001b[0;34m\u001b[0m\u001b[0m\n",
      "\u001b[0;32m/Users/heim/anaconda/lib/python3.5/site-packages/IPython/core/magics/extension.py\u001b[0m in \u001b[0;36mload_ext\u001b[0;34m(self, module_str)\u001b[0m\n\u001b[1;32m     35\u001b[0m         \u001b[0;32mif\u001b[0m \u001b[0;32mnot\u001b[0m \u001b[0mmodule_str\u001b[0m\u001b[0;34m:\u001b[0m\u001b[0;34m\u001b[0m\u001b[0m\n\u001b[1;32m     36\u001b[0m             \u001b[0;32mraise\u001b[0m \u001b[0mUsageError\u001b[0m\u001b[0;34m(\u001b[0m\u001b[0;34m'Missing module name.'\u001b[0m\u001b[0;34m)\u001b[0m\u001b[0;34m\u001b[0m\u001b[0m\n\u001b[0;32m---> 37\u001b[0;31m         \u001b[0mres\u001b[0m \u001b[0;34m=\u001b[0m \u001b[0mself\u001b[0m\u001b[0;34m.\u001b[0m\u001b[0mshell\u001b[0m\u001b[0;34m.\u001b[0m\u001b[0mextension_manager\u001b[0m\u001b[0;34m.\u001b[0m\u001b[0mload_extension\u001b[0m\u001b[0;34m(\u001b[0m\u001b[0mmodule_str\u001b[0m\u001b[0;34m)\u001b[0m\u001b[0;34m\u001b[0m\u001b[0m\n\u001b[0m\u001b[1;32m     38\u001b[0m \u001b[0;34m\u001b[0m\u001b[0m\n\u001b[1;32m     39\u001b[0m         \u001b[0;32mif\u001b[0m \u001b[0mres\u001b[0m \u001b[0;34m==\u001b[0m \u001b[0;34m'already loaded'\u001b[0m\u001b[0;34m:\u001b[0m\u001b[0;34m\u001b[0m\u001b[0m\n",
      "\u001b[0;32m/Users/heim/anaconda/lib/python3.5/site-packages/IPython/core/extensions.py\u001b[0m in \u001b[0;36mload_extension\u001b[0;34m(self, module_str)\u001b[0m\n\u001b[1;32m     81\u001b[0m             \u001b[0;32mif\u001b[0m \u001b[0mmodule_str\u001b[0m \u001b[0;32mnot\u001b[0m \u001b[0;32min\u001b[0m \u001b[0msys\u001b[0m\u001b[0;34m.\u001b[0m\u001b[0mmodules\u001b[0m\u001b[0;34m:\u001b[0m\u001b[0;34m\u001b[0m\u001b[0m\n\u001b[1;32m     82\u001b[0m                 \u001b[0;32mwith\u001b[0m \u001b[0mprepended_to_syspath\u001b[0m\u001b[0;34m(\u001b[0m\u001b[0mself\u001b[0m\u001b[0;34m.\u001b[0m\u001b[0mipython_extension_dir\u001b[0m\u001b[0;34m)\u001b[0m\u001b[0;34m:\u001b[0m\u001b[0;34m\u001b[0m\u001b[0m\n\u001b[0;32m---> 83\u001b[0;31m                     \u001b[0m__import__\u001b[0m\u001b[0;34m(\u001b[0m\u001b[0mmodule_str\u001b[0m\u001b[0;34m)\u001b[0m\u001b[0;34m\u001b[0m\u001b[0m\n\u001b[0m\u001b[1;32m     84\u001b[0m             \u001b[0mmod\u001b[0m \u001b[0;34m=\u001b[0m \u001b[0msys\u001b[0m\u001b[0;34m.\u001b[0m\u001b[0mmodules\u001b[0m\u001b[0;34m[\u001b[0m\u001b[0mmodule_str\u001b[0m\u001b[0;34m]\u001b[0m\u001b[0;34m\u001b[0m\u001b[0m\n\u001b[1;32m     85\u001b[0m             \u001b[0;32mif\u001b[0m \u001b[0mself\u001b[0m\u001b[0;34m.\u001b[0m\u001b[0m_call_load_ipython_extension\u001b[0m\u001b[0;34m(\u001b[0m\u001b[0mmod\u001b[0m\u001b[0;34m)\u001b[0m\u001b[0;34m:\u001b[0m\u001b[0;34m\u001b[0m\u001b[0m\n",
      "\u001b[0;31mImportError\u001b[0m: No module named 'watermark'"
     ]
    }
   ],
   "source": [
    "%load_ext watermark\n",
    "%watermark -u -n -t -z -v -p numpy,scipy,neupy,scikit-learn,matplotlib"
   ]
  },
  {
   "cell_type": "code",
   "execution_count": null,
   "metadata": {
    "collapsed": true
   },
   "outputs": [],
   "source": [
    "import warnings\n",
    "warnings.filterwarnings(\"ignore\")"
   ]
  },
  {
   "cell_type": "code",
   "execution_count": null,
   "metadata": {
    "collapsed": true
   },
   "outputs": [],
   "source": [
    "%matplotlib inline\n",
    "\n",
    "import numpy as np\n",
    "import matplotlib.pyplot as plt\n",
    "\n",
    "plt.style.use('ggplot')"
   ]
  },
  {
   "cell_type": "code",
   "execution_count": null,
   "metadata": {
    "collapsed": false
   },
   "outputs": [],
   "source": [
    "from sklearn import datasets, preprocessing, model_selection\n",
    "\n",
    "dataset = datasets.load_digits()\n",
    "target_scaler = preprocessing.OneHotEncoder()\n",
    "\n",
    "transformed_input = (dataset.data / 16) - 0.5\n",
    "target = dataset.target.reshape(-1, 1)\n",
    "transformed_target = target_scaler.fit_transform(target)\n",
    "\n",
    "x_train, x_test, y_train, y_test = model_selection.train_test_split(\n",
    "    transformed_input,\n",
    "    transformed_target.todense(),\n",
    "    train_size=0.5,\n",
    "    random_state=0,\n",
    ")"
   ]
  },
  {
   "cell_type": "code",
   "execution_count": null,
   "metadata": {
    "collapsed": false
   },
   "outputs": [],
   "source": [
    "fig, axes = plt.subplots(4, 4, figsize=(4, 5))\n",
    "\n",
    "for i in range(16):\n",
    "    image_coords = (i // 4, i % 4)\n",
    "    image_axes = axes[image_coords]\n",
    "\n",
    "    image_matrix = x_train[i, :].reshape((8, 8))\n",
    "    image_name = y_train[i].argmax()\n",
    "\n",
    "    image_axes.set_title(image_name)\n",
    "    image_axes.imshow(\n",
    "        image_matrix,\n",
    "        cmap=plt.cm.binary,\n",
    "        interpolation='nearest'\n",
    "    )\n",
    "\n",
    "    image_axes.axis('off')"
   ]
  },
  {
   "cell_type": "code",
   "execution_count": null,
   "metadata": {
    "collapsed": false
   },
   "outputs": [],
   "source": [
    "import time\n",
    "from sklearn import metrics\n",
    "from neupy import algorithms, layers, environment\n",
    "\n",
    "environment.reproducible()\n",
    "environment.speedup()\n",
    "\n",
    "net = algorithms.RPROP(\n",
    "    [\n",
    "        layers.Input(64),\n",
    "        layers.Tanh(100),\n",
    "        layers.Softmax(10),\n",
    "    ],\n",
    "\n",
    "    step=0.1,\n",
    "    verbose=True,\n",
    "    show_epoch='4 times',\n",
    "    error='categorical_crossentropy',\n",
    "    shuffle_data=True,\n",
    "    \n",
    "    decay_rate=0.01,\n",
    "    addons=[algorithms.WeightDecay]\n",
    ")\n",
    "\n",
    "\n",
    "t0 = time.time()\n",
    "net.train(x_train, y_train, x_test, y_test, epochs=100)\n",
    "print(\"Total train time: {:.2f} sec\".format(time.time() - t0))\n",
    "\n",
    "y_predicted = net.predict(x_test).argmax(axis=1)\n",
    "accuracy = metrics.accuracy_score(y_predicted, y_test.argmax(axis=1))\n",
    "\n",
    "print(\"Validation data sample accuracy: {:.2%}\".format(accuracy))"
   ]
  },
  {
   "cell_type": "code",
   "execution_count": null,
   "metadata": {
    "collapsed": false
   },
   "outputs": [],
   "source": [
    "from neupy import plots\n",
    "plots.error_plot(net);"
   ]
  },
  {
   "cell_type": "code",
   "execution_count": null,
   "metadata": {
    "collapsed": false
   },
   "outputs": [],
   "source": [
    "from sklearn import metrics\n",
    "\n",
    "y_test_vector = y_test.argmax(axis=1)\n",
    "y_test_vector = np.asarray(y_test_vector).reshape(y_test_vector.size)\n",
    "confusion_matrix = metrics.confusion_matrix(y_test_vector, y_predicted)\n",
    "\n",
    "plt.figure(figsize=(6, 6))\n",
    "possible_classes = np.arange(10)\n",
    "\n",
    "plt.imshow(confusion_matrix, cmap=plt.cm.Blues, interpolation='nearest')\n",
    "plt.colorbar()\n",
    "\n",
    "plt.xticks(possible_classes, possible_classes)\n",
    "plt.yticks(possible_classes, possible_classes)\n",
    "\n",
    "plt.show()"
   ]
  },
  {
   "cell_type": "code",
   "execution_count": null,
   "metadata": {
    "collapsed": false
   },
   "outputs": [],
   "source": [
    "layers = list(net.connection)\n",
    "hidden_layer = layers[1]\n",
    "input_weights = hidden_layer.weight.get_value()\n",
    "\n",
    "n_features = input_weights.shape[0]\n",
    "feature_index = np.arange(n_features)\n",
    "\n",
    "plt.bar(feature_index, input_weights.sum(axis=1), color='r')\n",
    "plt.xticks(np.arange(0, 65, 8), np.arange(0, 65, 8))\n",
    "plt.xlim(0, 64) "
   ]
  },
  {
   "cell_type": "code",
   "execution_count": null,
   "metadata": {
    "collapsed": false
   },
   "outputs": [],
   "source": [
    "plt.bar(feature_index, np.abs(input_weights.sum(axis=1)), color='r')\n",
    "plt.xticks(np.arange(0, 65, 8), np.arange(0, 65, 8))\n",
    "plt.xlim(0, 64) "
   ]
  },
  {
   "cell_type": "code",
   "execution_count": null,
   "metadata": {
    "collapsed": false
   },
   "outputs": [],
   "source": [
    "def feature_contribution(network):\n",
    "    colors = plt.rcParams['axes.color_cycle']\n",
    "\n",
    "    layers = list(network.connection)\n",
    "    layer = layers[1]\n",
    "        \n",
    "    weights = layer.weight.get_value()\n",
    "    n_features = network.connection.input_shape[0]\n",
    "    feature_index = np.arange(n_features)\n",
    "\n",
    "    positive_weights = np.where(weights > 0, weights, 0)\n",
    "    \n",
    "    plt.bar(feature_index, positive_weights.sum(axis=1),\n",
    "            color=colors[0])\n",
    "\n",
    "    negative_weights = np.where(weights < 0, weights, 0)\n",
    "    plt.bar(feature_index, negative_weights.sum(axis=1),\n",
    "            color=colors[1])\n",
    "\n",
    "    plt.xlabel(\"Input feature position\")\n",
    "    plt.xlim(0, n_features)\n",
    "\n",
    "plt.figure(figsize=(14, 6))\n",
    "label_frequency = np.arange(0, n_features + 1, 8)\n",
    "plt.xticks(label_frequency, label_frequency)\n",
    "\n",
    "feature_contribution(net)"
   ]
  },
  {
   "cell_type": "code",
   "execution_count": null,
   "metadata": {
    "collapsed": false
   },
   "outputs": [],
   "source": [
    "weights = layers[1].weight.get_value()\n",
    "positive_weights = np.where(weights > 0, weights, 0)\n",
    "negative_weights = np.where(weights < 0, weights, 0)\n",
    "\n",
    "fig, (axes_left, axes_right) = plt.subplots(1, 2, figsize=(8, 12))\n",
    "\n",
    "axes_left.set_title(\"Sum over positive weights\")\n",
    "plots.hinton(\n",
    "    positive_weights.sum(axis=1).reshape((8, 8)),\n",
    "    ax=axes_left,\n",
    "    add_legend=False\n",
    ")\n",
    "\n",
    "axes_right.set_title(\"Sum over negative weights\")\n",
    "plots.hinton(\n",
    "    negative_weights.sum(axis=1).reshape((8, 8)),\n",
    "    ax=axes_right,\n",
    "    add_legend=False\n",
    ")\n",
    "plt.show()"
   ]
  },
  {
   "cell_type": "code",
   "execution_count": null,
   "metadata": {
    "collapsed": false
   },
   "outputs": [],
   "source": [
    "import six\n",
    "\n",
    "def generate_layer_names(n_layers):\n",
    "    if n_layers < 2:\n",
    "        raise ValueError(\"Number of layers should be greater or \"\n",
    "                         \"equal to 2\")\n",
    "        \n",
    "    if not isinstance(n_layers, six.integer_types):\n",
    "        raise ValueError(\"Number of layers should be an integer \"\n",
    "                         \"number\")\n",
    "\n",
    "    patterns = {\n",
    "        2: ['Input layer', 'Output layer'],\n",
    "        3: ['Input layer', 'Hidden layer', 'Output layer'],\n",
    "    } \n",
    "\n",
    "    if n_layers in patterns:\n",
    "        return patterns[n_layers]\n",
    "    \n",
    "    layers_names = patterns[2]\n",
    "    for i in range(1, n_layers - 1):\n",
    "        layers_names.insert(-1, 'Hidden layer #{}'.format(i))\n",
    "\n",
    "    return layers_names\n",
    "\n",
    "print(generate_layer_names(n_layers=2))\n",
    "print(generate_layer_names(n_layers=3))\n",
    "print(generate_layer_names(n_layers=4))\n",
    "print(generate_layer_names(n_layers=5)) "
   ]
  },
  {
   "cell_type": "code",
   "execution_count": null,
   "metadata": {
    "collapsed": true
   },
   "outputs": [],
   "source": [
    "def connection_threads(network, stretch=False):\n",
    "    colors = plt.rcParams['axes.color_cycle']\n",
    "    \n",
    "    layers = list(network.connection)\n",
    "    layers = layers[1:]  # ignore the Input layer\n",
    "\n",
    "    layer_sizes = np.array([layer.output_shape[0] for layer in network.connection])\n",
    "    max_n_inputs = float(layer_sizes.max())\n",
    "    layer_shifts = (max_n_inputs - layer_sizes) / 2\n",
    "    layers_iter = zip(layers, layer_shifts, layer_shifts[1:])\n",
    "\n",
    "    for i, (layer, left_shift, right_shift) in enumerate(layers_iter):\n",
    "        weight = layer.weight.get_value()\n",
    "        max_value = np.abs(weight).max()\n",
    "\n",
    "        layer_input_size, layer_output_size = weight.shape\n",
    "        left_scaler = max_n_inputs / max(layer_input_size - 2, 2)\n",
    "        right_scaler = max_n_inputs / max(layer_output_size - 1, 2)\n",
    "\n",
    "        for (left_index, right_index), value in np.ndenumerate(weight):\n",
    "            color = (colors[0] if np.sign(value) == 1 else colors[1])\n",
    "\n",
    "            if stretch:\n",
    "                y_coords = [(left_index) * left_scaler,\n",
    "                            (right_index) * right_scaler]\n",
    "            else:\n",
    "                left_index += left_shift\n",
    "                right_index += right_shift\n",
    "                y_coords = [left_index, right_index]\n",
    "\n",
    "            line = plt.plot([i, i + 1], y_coords, color,\n",
    "                            alpha=abs(value) / (max_value))\n",
    "\n",
    "    plt.ylim(-1, max_n_inputs + 1)\n",
    "\n",
    "    n_layers = len(network.layers)\n",
    "    plt.yticks([], [])\n",
    "    plt.xticks(np.arange(n_layers), generate_layer_names(n_layers))"
   ]
  },
  {
   "cell_type": "code",
   "execution_count": null,
   "metadata": {
    "collapsed": false
   },
   "outputs": [],
   "source": [
    "plt.figure(figsize=(12, 6))\n",
    "connection_threads(net)"
   ]
  },
  {
   "cell_type": "code",
   "execution_count": null,
   "metadata": {
    "collapsed": false
   },
   "outputs": [],
   "source": [
    "plt.figure(figsize=(12, 6))\n",
    "connection_threads(net, stretch=True)"
   ]
  }
 ],
 "metadata": {
  "kernelspec": {
   "display_name": "Python [default]",
   "language": "python",
   "name": "python3"
  },
  "language_info": {
   "codemirror_mode": {
    "name": "ipython",
    "version": 3
   },
   "file_extension": ".py",
   "mimetype": "text/x-python",
   "name": "python",
   "nbconvert_exporter": "python",
   "pygments_lexer": "ipython3",
   "version": "3.5.2"
  }
 },
 "nbformat": 4,
 "nbformat_minor": 1
}
