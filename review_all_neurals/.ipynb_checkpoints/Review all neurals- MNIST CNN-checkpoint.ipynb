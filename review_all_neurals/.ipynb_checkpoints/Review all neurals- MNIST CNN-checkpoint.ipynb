{
 "cells": [
  {
   "cell_type": "code",
   "execution_count": null,
   "metadata": {
    "collapsed": true
   },
   "outputs": [],
   "source": []
  },
  {
   "cell_type": "code",
   "execution_count": 1,
   "metadata": {
    "collapsed": true
   },
   "outputs": [],
   "source": [
    "import numpy as np\n",
    "from sklearn.preprocessing import OneHotEncoder\n",
    "from sklearn import model_selection, metrics, datasets\n",
    "from neupy import algorithms, layers, environment"
   ]
  },
  {
   "cell_type": "code",
   "execution_count": 2,
   "metadata": {
    "collapsed": true
   },
   "outputs": [],
   "source": [
    "environment.reproducible()\n",
    "environment.speedup()\n",
    "\n",
    "\n",
    "def load_data():\n",
    "    mnist = datasets.fetch_mldata('MNIST original')\n",
    "    data = mnist.data\n",
    "\n",
    "    target_scaler = OneHotEncoder()\n",
    "    target = mnist.target.reshape((-1, 1))\n",
    "    target = target_scaler.fit_transform(target).todense()\n",
    "\n",
    "    n_samples = data.shape[0]\n",
    "    data = data.reshape((n_samples, 1, 28, 28))\n",
    "\n",
    "    x_train, x_test, y_train, y_test = model_selection.train_test_split(\n",
    "        data.astype(np.float32),\n",
    "        target.astype(np.float32),\n",
    "        train_size=(6 / 7.)\n",
    "    )\n",
    "\n",
    "    mean = x_train.mean(axis=(0, 2, 3))\n",
    "    std = x_train.std(axis=(0, 2, 3))\n",
    "\n",
    "    x_train -= mean\n",
    "    x_train /= std\n",
    "    x_test -= mean\n",
    "    x_test /= std\n",
    "\n",
    "    return x_train, x_test, y_train, y_test\n",
    "\n"
   ]
  },
  {
   "cell_type": "code",
   "execution_count": 3,
   "metadata": {
    "collapsed": false
   },
   "outputs": [
    {
     "name": "stdout",
     "output_type": "stream",
     "text": [
      "\n",
      "Main information\n",
      "\n",
      "[ALGORITHM] Adadelta\n",
      "\r\n",
      "[OPTION] batch_size = 128\n",
      "[OPTION] verbose = True\n",
      "[OPTION] epoch_end_signal = None\n",
      "[OPTION] show_epoch = 1\n",
      "[OPTION] shuffle_data = True\n",
      "[OPTION] step = 1.0\n",
      "[OPTION] train_end_signal = None\n",
      "[OPTION] error = categorical_crossentropy\n",
      "[OPTION] addons = ['StepDecay']\n",
      "[OPTION] decay = 0.95\n",
      "[OPTION] epsilon = 1e-05\n",
      "[OPTION] reduction_freq = 8\n",
      "\r\n",
      "[THEANO] Initializing Theano variables and functions.\n"
     ]
    },
    {
     "name": "stderr",
     "output_type": "stream",
     "text": [
      "/Users/heim/anaconda/lib/python3.5/site-packages/neupy/layers/pooling.py:193: UserWarning: DEPRECATION: the 'ds' parameter is not going to exist anymore as it is going to be replaced by the parameter 'ws'.\n",
      "  st=self.stride, padding=self.padding)\n",
      "/Users/heim/anaconda/lib/python3.5/site-packages/neupy/layers/pooling.py:193: UserWarning: DEPRECATION: the 'padding' parameter is not going to exist anymore as it is going to be replaced by the parameter 'pad'.\n",
      "  st=self.stride, padding=self.padding)\n"
     ]
    },
    {
     "name": "stdout",
     "output_type": "stream",
     "text": [
      "[THEANO] Initialization finished successfully. It took 93.97 seconds\n",
      "\n",
      "Network's architecture\n",
      "\n",
      "\r",
      "--------------------------------------------------\n",
      "\r",
      "| #  | Input shape  | Layer Type  | Output shape |\n",
      "\r",
      "--------------------------------------------------\n",
      "\r",
      "| 1  | (1, 28, 28)  | Input       | (1, 28, 28)  |\n",
      "\r",
      "| 2  | (1, 28, 28)  | Convolution | (32, 26, 26) |\n",
      "\r",
      "| 3  | (32, 26, 26) | BatchNorm   | (32, 26, 26) |\n",
      "\r",
      "| 4  | (32, 26, 26) | Relu        | (32, 26, 26) |\n",
      "\r",
      "| 5  | (32, 26, 26) | Convolution | (48, 24, 24) |\n",
      "\r",
      "| 6  | (48, 24, 24) | BatchNorm   | (48, 24, 24) |\n",
      "\r",
      "| 7  | (48, 24, 24) | Relu        | (48, 24, 24) |\n",
      "\r",
      "| 8  | (48, 24, 24) | MaxPooling  | (48, 12, 12) |\n",
      "\r",
      "| 9  | (48, 12, 12) | Convolution | (64, 10, 10) |\n",
      "\r",
      "| 10 | (64, 10, 10) | BatchNorm   | (64, 10, 10) |\n",
      "\r",
      "| 11 | (64, 10, 10) | Relu        | (64, 10, 10) |\n",
      "\r",
      "| 12 | (64, 10, 10) | MaxPooling  | (64, 5, 5)   |\n",
      "\r",
      "| 13 | (64, 5, 5)   | Reshape     | 1600         |\n",
      "\r",
      "| 14 | 1600         | Linear      | 1024         |\n",
      "\r",
      "| 15 | 1024         | BatchNorm   | 1024         |\n",
      "\r",
      "| 16 | 1024         | Relu        | 1024         |\n",
      "\r",
      "| 17 | 1024         | Softmax     | 10           |\n",
      "\r",
      "--------------------------------------------------\n",
      "\r\n"
     ]
    }
   ],
   "source": [
    "network = algorithms.Adadelta(\n",
    "    [\n",
    "        layers.Input((1, 28, 28)),\n",
    "\n",
    "        layers.Convolution((32, 3, 3)) > layers.BatchNorm() > layers.Relu(),\n",
    "        layers.Convolution((48, 3, 3)) > layers.BatchNorm() > layers.Relu(),\n",
    "        layers.MaxPooling((2, 2)),\n",
    "\n",
    "        layers.Convolution((64, 3, 3)) > layers.BatchNorm() > layers.Relu(),\n",
    "        layers.MaxPooling((2, 2)),\n",
    "\n",
    "        layers.Reshape(),\n",
    "        layers.Linear(1024) > layers.BatchNorm() > layers.Relu(),\n",
    "        layers.Softmax(10),\n",
    "    ],\n",
    "\n",
    "    error='categorical_crossentropy',\n",
    "    step=1.0,\n",
    "    verbose=True,\n",
    "    shuffle_data=True,\n",
    "\n",
    "    reduction_freq=8,\n",
    "    addons=[algorithms.StepDecay],\n",
    ")\n",
    "network.architecture()"
   ]
  },
  {
   "cell_type": "code",
   "execution_count": 4,
   "metadata": {
    "collapsed": false
   },
   "outputs": [
    {
     "name": "stdout",
     "output_type": "stream",
     "text": [
      "\n",
      "Start training\n",
      "\n",
      "[TRAINING DATA] shapes: (60000, 1, 28, 28)\n",
      "[TEST DATA] shapes: (10000, 1, 28, 28)\n",
      "[TRAINING] Total epochs: 2\n",
      "\n",
      "------------------------------------------------\n",
      "| Epoch # | Train err | Valid err | Time       |\n",
      "------------------------------------------------\n",
      "| 1       | 0.1047    | 0.0402    | 00:08:46   |                                       \n",
      "| 2       | 0.02785   | 0.0266    | 00:08:41   |                                       \n",
      "------------------------------------------------\n",
      "\n",
      "                                                                        \r"
     ]
    }
   ],
   "source": [
    "x_train, x_test, y_train, y_test = load_data()\n",
    "network.train(x_train, y_train, x_test, y_test, epochs=2)\n",
    "\n",
    "y_predicted = network.predict(x_test).argmax(axis=1)\n",
    "y_test_labels = np.asarray(y_test.argmax(axis=1)).reshape(len(y_test))"
   ]
  },
  {
   "cell_type": "code",
   "execution_count": 5,
   "metadata": {
    "collapsed": false
   },
   "outputs": [
    {
     "name": "stdout",
     "output_type": "stream",
     "text": [
      "             precision    recall  f1-score   support\n",
      "\n",
      "          0       0.99      1.00      0.99      1006\n",
      "          1       1.00      1.00      1.00      1157\n",
      "          2       1.00      0.99      0.99      1019\n",
      "          3       0.99      1.00      0.99      1008\n",
      "          4       0.99      0.99      0.99       930\n",
      "          5       1.00      0.99      0.99       877\n",
      "          6       0.99      0.99      0.99       997\n",
      "          7       0.99      1.00      0.99      1040\n",
      "          8       0.98      0.99      0.99       940\n",
      "          9       0.99      0.99      0.99      1026\n",
      "\n",
      "avg / total       0.99      0.99      0.99     10000\n",
      "\n",
      "Validation accuracy: 99.21%\n"
     ]
    }
   ],
   "source": [
    "print(metrics.classification_report(y_test_labels, y_predicted))\n",
    "score = metrics.accuracy_score(y_test_labels, y_predicted)\n",
    "print(\"Validation accuracy: {:.2%}\".format(score))"
   ]
  },
  {
   "cell_type": "code",
   "execution_count": null,
   "metadata": {
    "collapsed": true
   },
   "outputs": [],
   "source": []
  }
 ],
 "metadata": {
  "kernelspec": {
   "display_name": "Python [conda root]",
   "language": "python",
   "name": "conda-root-py"
  },
  "language_info": {
   "codemirror_mode": {
    "name": "ipython",
    "version": 3
   },
   "file_extension": ".py",
   "mimetype": "text/x-python",
   "name": "python",
   "nbconvert_exporter": "python",
   "pygments_lexer": "ipython3",
   "version": "3.5.2"
  }
 },
 "nbformat": 4,
 "nbformat_minor": 2
}
